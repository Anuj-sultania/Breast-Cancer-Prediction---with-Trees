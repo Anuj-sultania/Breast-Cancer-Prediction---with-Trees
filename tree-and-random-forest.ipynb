{
  "metadata": {
    "kernelspec": {
      "language": "python",
      "display_name": "Python 3",
      "name": "python3"
    },
    "language_info": {
      "name": "python",
      "version": "3.7.12",
      "mimetype": "text/x-python",
      "codemirror_mode": {
        "name": "ipython",
        "version": 3
      },
      "pygments_lexer": "ipython3",
      "nbconvert_exporter": "python",
      "file_extension": ".py"
    },
    "colab": {
      "name": "tree-and-random-forest.ipynb",
      "provenance": []
    }
  },
  "nbformat_minor": 0,
  "nbformat": 4,
  "cells": [
    {
      "cell_type": "markdown",
      "source": [
        "# 1. Load libraries and read the data¶\n"
      ],
      "metadata": {
        "id": "5BK4WY4yk8QP"
      }
    },
    {
      "cell_type": "markdown",
      "source": [
        "# 1.1. Load libraries"
      ],
      "metadata": {
        "id": "GCHlPVAik8QZ"
      }
    },
    {
      "cell_type": "code",
      "source": [
        "import pandas as pd\n",
        "import numpy as np"
      ],
      "metadata": {
        "execution": {
          "iopub.status.busy": "2022-02-24T06:17:21.388412Z",
          "iopub.execute_input": "2022-02-24T06:17:21.388721Z",
          "iopub.status.idle": "2022-02-24T06:17:21.391589Z",
          "shell.execute_reply.started": "2022-02-24T06:17:21.388696Z",
          "shell.execute_reply": "2022-02-24T06:17:21.391095Z"
        },
        "trusted": true,
        "id": "iJzijR9Ak8Qc"
      },
      "execution_count": 1,
      "outputs": []
    },
    {
      "cell_type": "code",
      "source": [
        "import matplotlib.pyplot as plt\n",
        "from sklearn.tree import  DecisionTreeClassifier\n",
        "from sklearn.model_selection  import  train_test_split\n",
        "from sklearn.metrics import accuracy_score,roc_auc_score,confusion_matrix,classification_report,precision_score, recall_score, roc_curve, precision_recall_curve \n",
        "import itertools\n",
        "from sklearn.preprocessing import StandardScaler\n",
        "import sklearn\n",
        "from sklearn.model_selection import cross_val_score\n",
        "from sklearn.ensemble import BaggingClassifier\n",
        "from sklearn.ensemble import GradientBoostingClassifier\n",
        "from sklearn.ensemble import AdaBoostClassifier\n",
        "from sklearn.ensemble import RandomForestClassifier\n",
        "from sklearn.model_selection import GridSearchCV"
      ],
      "metadata": {
        "execution": {
          "iopub.status.busy": "2022-02-24T06:17:21.392370Z",
          "iopub.execute_input": "2022-02-24T06:17:21.392639Z",
          "iopub.status.idle": "2022-02-24T06:17:22.430451Z",
          "shell.execute_reply.started": "2022-02-24T06:17:21.392617Z",
          "shell.execute_reply": "2022-02-24T06:17:22.429729Z"
        },
        "trusted": true,
        "id": "Tz1iuMZZk8Qg"
      },
      "execution_count": 2,
      "outputs": []
    },
    {
      "cell_type": "markdown",
      "source": [
        "# 1.2. Read the data"
      ],
      "metadata": {
        "id": "WUxpm9nCk8Qj"
      }
    },
    {
      "cell_type": "markdown",
      "source": [
        ""
      ],
      "metadata": {
        "id": "JP8si_R6k8Qm"
      }
    },
    {
      "cell_type": "code",
      "source": [
        "df = pd.read_csv('/content/data (1).csv')"
      ],
      "metadata": {
        "execution": {
          "iopub.status.busy": "2022-02-24T06:17:22.432478Z",
          "iopub.execute_input": "2022-02-24T06:17:22.433080Z",
          "iopub.status.idle": "2022-02-24T06:17:22.453039Z",
          "shell.execute_reply.started": "2022-02-24T06:17:22.433036Z",
          "shell.execute_reply": "2022-02-24T06:17:22.452548Z"
        },
        "trusted": true,
        "id": "VKR5Kwjik8Qo"
      },
      "execution_count": 3,
      "outputs": []
    },
    {
      "cell_type": "markdown",
      "source": [
        "# 1.3. Missing Values "
      ],
      "metadata": {
        "id": "U1JVPwfDk8Qr"
      }
    },
    {
      "cell_type": "code",
      "source": [
        "df.isna().sum()"
      ],
      "metadata": {
        "execution": {
          "iopub.status.busy": "2022-02-24T06:17:22.454045Z",
          "iopub.execute_input": "2022-02-24T06:17:22.454786Z",
          "iopub.status.idle": "2022-02-24T06:17:22.468167Z",
          "shell.execute_reply.started": "2022-02-24T06:17:22.454747Z",
          "shell.execute_reply": "2022-02-24T06:17:22.467700Z"
        },
        "trusted": true,
        "colab": {
          "base_uri": "https://localhost:8080/"
        },
        "id": "sCm8FTOBk8Qw",
        "outputId": "e786e3a6-98c3-425b-8311-fc9b66df97de"
      },
      "execution_count": 4,
      "outputs": [
        {
          "output_type": "execute_result",
          "data": {
            "text/plain": [
              "id                           0\n",
              "diagnosis                    0\n",
              "radius_mean                  0\n",
              "texture_mean                 0\n",
              "perimeter_mean               0\n",
              "area_mean                    0\n",
              "smoothness_mean              0\n",
              "compactness_mean             0\n",
              "concavity_mean               0\n",
              "concave points_mean          0\n",
              "symmetry_mean                0\n",
              "fractal_dimension_mean       0\n",
              "radius_se                    0\n",
              "texture_se                   0\n",
              "perimeter_se                 0\n",
              "area_se                      0\n",
              "smoothness_se                0\n",
              "compactness_se               0\n",
              "concavity_se                 0\n",
              "concave points_se            0\n",
              "symmetry_se                  0\n",
              "fractal_dimension_se         0\n",
              "radius_worst                 0\n",
              "texture_worst                0\n",
              "perimeter_worst              0\n",
              "area_worst                   0\n",
              "smoothness_worst             0\n",
              "compactness_worst            0\n",
              "concavity_worst              0\n",
              "concave points_worst         0\n",
              "symmetry_worst               0\n",
              "fractal_dimension_worst      0\n",
              "Unnamed: 32                569\n",
              "dtype: int64"
            ]
          },
          "metadata": {},
          "execution_count": 4
        }
      ]
    },
    {
      "cell_type": "markdown",
      "source": [
        "# 1.4. Reassign target and drop useless features"
      ],
      "metadata": {
        "id": "7xKckk2dk8Qy"
      }
    },
    {
      "cell_type": "code",
      "source": [
        "# Drop Useless column\n",
        "df.drop(['Unnamed: 32','id'], axis =1, inplace = True)"
      ],
      "metadata": {
        "execution": {
          "iopub.status.busy": "2022-02-24T06:17:22.469004Z",
          "iopub.execute_input": "2022-02-24T06:17:22.469334Z",
          "iopub.status.idle": "2022-02-24T06:17:22.478966Z",
          "shell.execute_reply.started": "2022-02-24T06:17:22.469304Z",
          "shell.execute_reply": "2022-02-24T06:17:22.478321Z"
        },
        "trusted": true,
        "id": "E7qKWALrk8Q0"
      },
      "execution_count": 5,
      "outputs": []
    },
    {
      "cell_type": "code",
      "source": [
        "# Reassign target\n",
        "df.diagnosis.replace(to_replace = dict(M = 1, B = 0), inplace = True)"
      ],
      "metadata": {
        "execution": {
          "iopub.status.busy": "2022-02-24T06:17:22.480085Z",
          "iopub.execute_input": "2022-02-24T06:17:22.480696Z",
          "iopub.status.idle": "2022-02-24T06:17:22.487933Z",
          "shell.execute_reply.started": "2022-02-24T06:17:22.480666Z",
          "shell.execute_reply": "2022-02-24T06:17:22.487372Z"
        },
        "trusted": true,
        "id": "tpm9vyrmk8Q2"
      },
      "execution_count": 6,
      "outputs": []
    },
    {
      "cell_type": "markdown",
      "source": [
        "# 2 Exploratory Data Analysis (EDA)"
      ],
      "metadata": {
        "id": "weL0W7Qgk8Q4"
      }
    },
    {
      "cell_type": "markdown",
      "source": [
        "# 2.1  Head and Describe"
      ],
      "metadata": {
        "id": "7VkHVlPfk8Q6"
      }
    },
    {
      "cell_type": "code",
      "source": [
        "df.head()"
      ],
      "metadata": {
        "execution": {
          "iopub.status.busy": "2022-02-24T06:17:22.488716Z",
          "iopub.execute_input": "2022-02-24T06:17:22.489010Z",
          "iopub.status.idle": "2022-02-24T06:17:22.519787Z",
          "shell.execute_reply.started": "2022-02-24T06:17:22.488976Z",
          "shell.execute_reply": "2022-02-24T06:17:22.518997Z"
        },
        "trusted": true,
        "colab": {
          "base_uri": "https://localhost:8080/",
          "height": 287
        },
        "id": "UAgjzMMjk8Q8",
        "outputId": "74ca9f53-8730-4dd0-d9c4-a49f18832c9b"
      },
      "execution_count": 7,
      "outputs": [
        {
          "output_type": "execute_result",
          "data": {
            "text/html": [
              "\n",
              "  <div id=\"df-da9fdf30-8966-4d03-ac45-02c8e940b851\">\n",
              "    <div class=\"colab-df-container\">\n",
              "      <div>\n",
              "<style scoped>\n",
              "    .dataframe tbody tr th:only-of-type {\n",
              "        vertical-align: middle;\n",
              "    }\n",
              "\n",
              "    .dataframe tbody tr th {\n",
              "        vertical-align: top;\n",
              "    }\n",
              "\n",
              "    .dataframe thead th {\n",
              "        text-align: right;\n",
              "    }\n",
              "</style>\n",
              "<table border=\"1\" class=\"dataframe\">\n",
              "  <thead>\n",
              "    <tr style=\"text-align: right;\">\n",
              "      <th></th>\n",
              "      <th>diagnosis</th>\n",
              "      <th>radius_mean</th>\n",
              "      <th>texture_mean</th>\n",
              "      <th>perimeter_mean</th>\n",
              "      <th>area_mean</th>\n",
              "      <th>smoothness_mean</th>\n",
              "      <th>compactness_mean</th>\n",
              "      <th>concavity_mean</th>\n",
              "      <th>concave points_mean</th>\n",
              "      <th>symmetry_mean</th>\n",
              "      <th>fractal_dimension_mean</th>\n",
              "      <th>radius_se</th>\n",
              "      <th>texture_se</th>\n",
              "      <th>perimeter_se</th>\n",
              "      <th>area_se</th>\n",
              "      <th>smoothness_se</th>\n",
              "      <th>compactness_se</th>\n",
              "      <th>concavity_se</th>\n",
              "      <th>concave points_se</th>\n",
              "      <th>symmetry_se</th>\n",
              "      <th>fractal_dimension_se</th>\n",
              "      <th>radius_worst</th>\n",
              "      <th>texture_worst</th>\n",
              "      <th>perimeter_worst</th>\n",
              "      <th>area_worst</th>\n",
              "      <th>smoothness_worst</th>\n",
              "      <th>compactness_worst</th>\n",
              "      <th>concavity_worst</th>\n",
              "      <th>concave points_worst</th>\n",
              "      <th>symmetry_worst</th>\n",
              "      <th>fractal_dimension_worst</th>\n",
              "    </tr>\n",
              "  </thead>\n",
              "  <tbody>\n",
              "    <tr>\n",
              "      <th>0</th>\n",
              "      <td>1</td>\n",
              "      <td>17.99</td>\n",
              "      <td>10.38</td>\n",
              "      <td>122.80</td>\n",
              "      <td>1001.0</td>\n",
              "      <td>0.11840</td>\n",
              "      <td>0.27760</td>\n",
              "      <td>0.3001</td>\n",
              "      <td>0.14710</td>\n",
              "      <td>0.2419</td>\n",
              "      <td>0.07871</td>\n",
              "      <td>1.0950</td>\n",
              "      <td>0.9053</td>\n",
              "      <td>8.589</td>\n",
              "      <td>153.40</td>\n",
              "      <td>0.006399</td>\n",
              "      <td>0.04904</td>\n",
              "      <td>0.05373</td>\n",
              "      <td>0.01587</td>\n",
              "      <td>0.03003</td>\n",
              "      <td>0.006193</td>\n",
              "      <td>25.38</td>\n",
              "      <td>17.33</td>\n",
              "      <td>184.60</td>\n",
              "      <td>2019.0</td>\n",
              "      <td>0.1622</td>\n",
              "      <td>0.6656</td>\n",
              "      <td>0.7119</td>\n",
              "      <td>0.2654</td>\n",
              "      <td>0.4601</td>\n",
              "      <td>0.11890</td>\n",
              "    </tr>\n",
              "    <tr>\n",
              "      <th>1</th>\n",
              "      <td>1</td>\n",
              "      <td>20.57</td>\n",
              "      <td>17.77</td>\n",
              "      <td>132.90</td>\n",
              "      <td>1326.0</td>\n",
              "      <td>0.08474</td>\n",
              "      <td>0.07864</td>\n",
              "      <td>0.0869</td>\n",
              "      <td>0.07017</td>\n",
              "      <td>0.1812</td>\n",
              "      <td>0.05667</td>\n",
              "      <td>0.5435</td>\n",
              "      <td>0.7339</td>\n",
              "      <td>3.398</td>\n",
              "      <td>74.08</td>\n",
              "      <td>0.005225</td>\n",
              "      <td>0.01308</td>\n",
              "      <td>0.01860</td>\n",
              "      <td>0.01340</td>\n",
              "      <td>0.01389</td>\n",
              "      <td>0.003532</td>\n",
              "      <td>24.99</td>\n",
              "      <td>23.41</td>\n",
              "      <td>158.80</td>\n",
              "      <td>1956.0</td>\n",
              "      <td>0.1238</td>\n",
              "      <td>0.1866</td>\n",
              "      <td>0.2416</td>\n",
              "      <td>0.1860</td>\n",
              "      <td>0.2750</td>\n",
              "      <td>0.08902</td>\n",
              "    </tr>\n",
              "    <tr>\n",
              "      <th>2</th>\n",
              "      <td>1</td>\n",
              "      <td>19.69</td>\n",
              "      <td>21.25</td>\n",
              "      <td>130.00</td>\n",
              "      <td>1203.0</td>\n",
              "      <td>0.10960</td>\n",
              "      <td>0.15990</td>\n",
              "      <td>0.1974</td>\n",
              "      <td>0.12790</td>\n",
              "      <td>0.2069</td>\n",
              "      <td>0.05999</td>\n",
              "      <td>0.7456</td>\n",
              "      <td>0.7869</td>\n",
              "      <td>4.585</td>\n",
              "      <td>94.03</td>\n",
              "      <td>0.006150</td>\n",
              "      <td>0.04006</td>\n",
              "      <td>0.03832</td>\n",
              "      <td>0.02058</td>\n",
              "      <td>0.02250</td>\n",
              "      <td>0.004571</td>\n",
              "      <td>23.57</td>\n",
              "      <td>25.53</td>\n",
              "      <td>152.50</td>\n",
              "      <td>1709.0</td>\n",
              "      <td>0.1444</td>\n",
              "      <td>0.4245</td>\n",
              "      <td>0.4504</td>\n",
              "      <td>0.2430</td>\n",
              "      <td>0.3613</td>\n",
              "      <td>0.08758</td>\n",
              "    </tr>\n",
              "    <tr>\n",
              "      <th>3</th>\n",
              "      <td>1</td>\n",
              "      <td>11.42</td>\n",
              "      <td>20.38</td>\n",
              "      <td>77.58</td>\n",
              "      <td>386.1</td>\n",
              "      <td>0.14250</td>\n",
              "      <td>0.28390</td>\n",
              "      <td>0.2414</td>\n",
              "      <td>0.10520</td>\n",
              "      <td>0.2597</td>\n",
              "      <td>0.09744</td>\n",
              "      <td>0.4956</td>\n",
              "      <td>1.1560</td>\n",
              "      <td>3.445</td>\n",
              "      <td>27.23</td>\n",
              "      <td>0.009110</td>\n",
              "      <td>0.07458</td>\n",
              "      <td>0.05661</td>\n",
              "      <td>0.01867</td>\n",
              "      <td>0.05963</td>\n",
              "      <td>0.009208</td>\n",
              "      <td>14.91</td>\n",
              "      <td>26.50</td>\n",
              "      <td>98.87</td>\n",
              "      <td>567.7</td>\n",
              "      <td>0.2098</td>\n",
              "      <td>0.8663</td>\n",
              "      <td>0.6869</td>\n",
              "      <td>0.2575</td>\n",
              "      <td>0.6638</td>\n",
              "      <td>0.17300</td>\n",
              "    </tr>\n",
              "    <tr>\n",
              "      <th>4</th>\n",
              "      <td>1</td>\n",
              "      <td>20.29</td>\n",
              "      <td>14.34</td>\n",
              "      <td>135.10</td>\n",
              "      <td>1297.0</td>\n",
              "      <td>0.10030</td>\n",
              "      <td>0.13280</td>\n",
              "      <td>0.1980</td>\n",
              "      <td>0.10430</td>\n",
              "      <td>0.1809</td>\n",
              "      <td>0.05883</td>\n",
              "      <td>0.7572</td>\n",
              "      <td>0.7813</td>\n",
              "      <td>5.438</td>\n",
              "      <td>94.44</td>\n",
              "      <td>0.011490</td>\n",
              "      <td>0.02461</td>\n",
              "      <td>0.05688</td>\n",
              "      <td>0.01885</td>\n",
              "      <td>0.01756</td>\n",
              "      <td>0.005115</td>\n",
              "      <td>22.54</td>\n",
              "      <td>16.67</td>\n",
              "      <td>152.20</td>\n",
              "      <td>1575.0</td>\n",
              "      <td>0.1374</td>\n",
              "      <td>0.2050</td>\n",
              "      <td>0.4000</td>\n",
              "      <td>0.1625</td>\n",
              "      <td>0.2364</td>\n",
              "      <td>0.07678</td>\n",
              "    </tr>\n",
              "  </tbody>\n",
              "</table>\n",
              "</div>\n",
              "      <button class=\"colab-df-convert\" onclick=\"convertToInteractive('df-da9fdf30-8966-4d03-ac45-02c8e940b851')\"\n",
              "              title=\"Convert this dataframe to an interactive table.\"\n",
              "              style=\"display:none;\">\n",
              "        \n",
              "  <svg xmlns=\"http://www.w3.org/2000/svg\" height=\"24px\"viewBox=\"0 0 24 24\"\n",
              "       width=\"24px\">\n",
              "    <path d=\"M0 0h24v24H0V0z\" fill=\"none\"/>\n",
              "    <path d=\"M18.56 5.44l.94 2.06.94-2.06 2.06-.94-2.06-.94-.94-2.06-.94 2.06-2.06.94zm-11 1L8.5 8.5l.94-2.06 2.06-.94-2.06-.94L8.5 2.5l-.94 2.06-2.06.94zm10 10l.94 2.06.94-2.06 2.06-.94-2.06-.94-.94-2.06-.94 2.06-2.06.94z\"/><path d=\"M17.41 7.96l-1.37-1.37c-.4-.4-.92-.59-1.43-.59-.52 0-1.04.2-1.43.59L10.3 9.45l-7.72 7.72c-.78.78-.78 2.05 0 2.83L4 21.41c.39.39.9.59 1.41.59.51 0 1.02-.2 1.41-.59l7.78-7.78 2.81-2.81c.8-.78.8-2.07 0-2.86zM5.41 20L4 18.59l7.72-7.72 1.47 1.35L5.41 20z\"/>\n",
              "  </svg>\n",
              "      </button>\n",
              "      \n",
              "  <style>\n",
              "    .colab-df-container {\n",
              "      display:flex;\n",
              "      flex-wrap:wrap;\n",
              "      gap: 12px;\n",
              "    }\n",
              "\n",
              "    .colab-df-convert {\n",
              "      background-color: #E8F0FE;\n",
              "      border: none;\n",
              "      border-radius: 50%;\n",
              "      cursor: pointer;\n",
              "      display: none;\n",
              "      fill: #1967D2;\n",
              "      height: 32px;\n",
              "      padding: 0 0 0 0;\n",
              "      width: 32px;\n",
              "    }\n",
              "\n",
              "    .colab-df-convert:hover {\n",
              "      background-color: #E2EBFA;\n",
              "      box-shadow: 0px 1px 2px rgba(60, 64, 67, 0.3), 0px 1px 3px 1px rgba(60, 64, 67, 0.15);\n",
              "      fill: #174EA6;\n",
              "    }\n",
              "\n",
              "    [theme=dark] .colab-df-convert {\n",
              "      background-color: #3B4455;\n",
              "      fill: #D2E3FC;\n",
              "    }\n",
              "\n",
              "    [theme=dark] .colab-df-convert:hover {\n",
              "      background-color: #434B5C;\n",
              "      box-shadow: 0px 1px 3px 1px rgba(0, 0, 0, 0.15);\n",
              "      filter: drop-shadow(0px 1px 2px rgba(0, 0, 0, 0.3));\n",
              "      fill: #FFFFFF;\n",
              "    }\n",
              "  </style>\n",
              "\n",
              "      <script>\n",
              "        const buttonEl =\n",
              "          document.querySelector('#df-da9fdf30-8966-4d03-ac45-02c8e940b851 button.colab-df-convert');\n",
              "        buttonEl.style.display =\n",
              "          google.colab.kernel.accessAllowed ? 'block' : 'none';\n",
              "\n",
              "        async function convertToInteractive(key) {\n",
              "          const element = document.querySelector('#df-da9fdf30-8966-4d03-ac45-02c8e940b851');\n",
              "          const dataTable =\n",
              "            await google.colab.kernel.invokeFunction('convertToInteractive',\n",
              "                                                     [key], {});\n",
              "          if (!dataTable) return;\n",
              "\n",
              "          const docLinkHtml = 'Like what you see? Visit the ' +\n",
              "            '<a target=\"_blank\" href=https://colab.research.google.com/notebooks/data_table.ipynb>data table notebook</a>'\n",
              "            + ' to learn more about interactive tables.';\n",
              "          element.innerHTML = '';\n",
              "          dataTable['output_type'] = 'display_data';\n",
              "          await google.colab.output.renderOutput(dataTable, element);\n",
              "          const docLink = document.createElement('div');\n",
              "          docLink.innerHTML = docLinkHtml;\n",
              "          element.appendChild(docLink);\n",
              "        }\n",
              "      </script>\n",
              "    </div>\n",
              "  </div>\n",
              "  "
            ],
            "text/plain": [
              "   diagnosis  radius_mean  ...  symmetry_worst  fractal_dimension_worst\n",
              "0          1        17.99  ...          0.4601                  0.11890\n",
              "1          1        20.57  ...          0.2750                  0.08902\n",
              "2          1        19.69  ...          0.3613                  0.08758\n",
              "3          1        11.42  ...          0.6638                  0.17300\n",
              "4          1        20.29  ...          0.2364                  0.07678\n",
              "\n",
              "[5 rows x 31 columns]"
            ]
          },
          "metadata": {},
          "execution_count": 7
        }
      ]
    },
    {
      "cell_type": "code",
      "source": [
        "df.info()"
      ],
      "metadata": {
        "execution": {
          "iopub.status.busy": "2022-02-24T06:17:22.521028Z",
          "iopub.execute_input": "2022-02-24T06:17:22.521576Z",
          "iopub.status.idle": "2022-02-24T06:17:22.537589Z",
          "shell.execute_reply.started": "2022-02-24T06:17:22.521546Z",
          "shell.execute_reply": "2022-02-24T06:17:22.536709Z"
        },
        "trusted": true,
        "colab": {
          "base_uri": "https://localhost:8080/"
        },
        "id": "f5i-ff7Ok8Q_",
        "outputId": "c73e1168-9189-4cc6-ad73-6061c804db4f"
      },
      "execution_count": 8,
      "outputs": [
        {
          "output_type": "stream",
          "name": "stdout",
          "text": [
            "<class 'pandas.core.frame.DataFrame'>\n",
            "RangeIndex: 569 entries, 0 to 568\n",
            "Data columns (total 31 columns):\n",
            " #   Column                   Non-Null Count  Dtype  \n",
            "---  ------                   --------------  -----  \n",
            " 0   diagnosis                569 non-null    int64  \n",
            " 1   radius_mean              569 non-null    float64\n",
            " 2   texture_mean             569 non-null    float64\n",
            " 3   perimeter_mean           569 non-null    float64\n",
            " 4   area_mean                569 non-null    float64\n",
            " 5   smoothness_mean          569 non-null    float64\n",
            " 6   compactness_mean         569 non-null    float64\n",
            " 7   concavity_mean           569 non-null    float64\n",
            " 8   concave points_mean      569 non-null    float64\n",
            " 9   symmetry_mean            569 non-null    float64\n",
            " 10  fractal_dimension_mean   569 non-null    float64\n",
            " 11  radius_se                569 non-null    float64\n",
            " 12  texture_se               569 non-null    float64\n",
            " 13  perimeter_se             569 non-null    float64\n",
            " 14  area_se                  569 non-null    float64\n",
            " 15  smoothness_se            569 non-null    float64\n",
            " 16  compactness_se           569 non-null    float64\n",
            " 17  concavity_se             569 non-null    float64\n",
            " 18  concave points_se        569 non-null    float64\n",
            " 19  symmetry_se              569 non-null    float64\n",
            " 20  fractal_dimension_se     569 non-null    float64\n",
            " 21  radius_worst             569 non-null    float64\n",
            " 22  texture_worst            569 non-null    float64\n",
            " 23  perimeter_worst          569 non-null    float64\n",
            " 24  area_worst               569 non-null    float64\n",
            " 25  smoothness_worst         569 non-null    float64\n",
            " 26  compactness_worst        569 non-null    float64\n",
            " 27  concavity_worst          569 non-null    float64\n",
            " 28  concave points_worst     569 non-null    float64\n",
            " 29  symmetry_worst           569 non-null    float64\n",
            " 30  fractal_dimension_worst  569 non-null    float64\n",
            "dtypes: float64(30), int64(1)\n",
            "memory usage: 137.9 KB\n"
          ]
        }
      ]
    },
    {
      "cell_type": "code",
      "source": [
        "df.describe()"
      ],
      "metadata": {
        "execution": {
          "iopub.status.busy": "2022-02-24T06:17:22.541327Z",
          "iopub.execute_input": "2022-02-24T06:17:22.541531Z",
          "iopub.status.idle": "2022-02-24T06:17:22.621162Z",
          "shell.execute_reply.started": "2022-02-24T06:17:22.541507Z",
          "shell.execute_reply": "2022-02-24T06:17:22.620336Z"
        },
        "trusted": true,
        "colab": {
          "base_uri": "https://localhost:8080/",
          "height": 381
        },
        "id": "mQIVVFVak8RC",
        "outputId": "932d509d-9da2-48f8-f22f-e255a58d482b"
      },
      "execution_count": 9,
      "outputs": [
        {
          "output_type": "execute_result",
          "data": {
            "text/html": [
              "\n",
              "  <div id=\"df-61b33a68-c10e-4748-bbc5-e7bc1518cb86\">\n",
              "    <div class=\"colab-df-container\">\n",
              "      <div>\n",
              "<style scoped>\n",
              "    .dataframe tbody tr th:only-of-type {\n",
              "        vertical-align: middle;\n",
              "    }\n",
              "\n",
              "    .dataframe tbody tr th {\n",
              "        vertical-align: top;\n",
              "    }\n",
              "\n",
              "    .dataframe thead th {\n",
              "        text-align: right;\n",
              "    }\n",
              "</style>\n",
              "<table border=\"1\" class=\"dataframe\">\n",
              "  <thead>\n",
              "    <tr style=\"text-align: right;\">\n",
              "      <th></th>\n",
              "      <th>diagnosis</th>\n",
              "      <th>radius_mean</th>\n",
              "      <th>texture_mean</th>\n",
              "      <th>perimeter_mean</th>\n",
              "      <th>area_mean</th>\n",
              "      <th>smoothness_mean</th>\n",
              "      <th>compactness_mean</th>\n",
              "      <th>concavity_mean</th>\n",
              "      <th>concave points_mean</th>\n",
              "      <th>symmetry_mean</th>\n",
              "      <th>fractal_dimension_mean</th>\n",
              "      <th>radius_se</th>\n",
              "      <th>texture_se</th>\n",
              "      <th>perimeter_se</th>\n",
              "      <th>area_se</th>\n",
              "      <th>smoothness_se</th>\n",
              "      <th>compactness_se</th>\n",
              "      <th>concavity_se</th>\n",
              "      <th>concave points_se</th>\n",
              "      <th>symmetry_se</th>\n",
              "      <th>fractal_dimension_se</th>\n",
              "      <th>radius_worst</th>\n",
              "      <th>texture_worst</th>\n",
              "      <th>perimeter_worst</th>\n",
              "      <th>area_worst</th>\n",
              "      <th>smoothness_worst</th>\n",
              "      <th>compactness_worst</th>\n",
              "      <th>concavity_worst</th>\n",
              "      <th>concave points_worst</th>\n",
              "      <th>symmetry_worst</th>\n",
              "      <th>fractal_dimension_worst</th>\n",
              "    </tr>\n",
              "  </thead>\n",
              "  <tbody>\n",
              "    <tr>\n",
              "      <th>count</th>\n",
              "      <td>569.000000</td>\n",
              "      <td>569.000000</td>\n",
              "      <td>569.000000</td>\n",
              "      <td>569.000000</td>\n",
              "      <td>569.000000</td>\n",
              "      <td>569.000000</td>\n",
              "      <td>569.000000</td>\n",
              "      <td>569.000000</td>\n",
              "      <td>569.000000</td>\n",
              "      <td>569.000000</td>\n",
              "      <td>569.000000</td>\n",
              "      <td>569.000000</td>\n",
              "      <td>569.000000</td>\n",
              "      <td>569.000000</td>\n",
              "      <td>569.000000</td>\n",
              "      <td>569.000000</td>\n",
              "      <td>569.000000</td>\n",
              "      <td>569.000000</td>\n",
              "      <td>569.000000</td>\n",
              "      <td>569.000000</td>\n",
              "      <td>569.000000</td>\n",
              "      <td>569.000000</td>\n",
              "      <td>569.000000</td>\n",
              "      <td>569.000000</td>\n",
              "      <td>569.000000</td>\n",
              "      <td>569.000000</td>\n",
              "      <td>569.000000</td>\n",
              "      <td>569.000000</td>\n",
              "      <td>569.000000</td>\n",
              "      <td>569.000000</td>\n",
              "      <td>569.000000</td>\n",
              "    </tr>\n",
              "    <tr>\n",
              "      <th>mean</th>\n",
              "      <td>0.372583</td>\n",
              "      <td>14.127292</td>\n",
              "      <td>19.289649</td>\n",
              "      <td>91.969033</td>\n",
              "      <td>654.889104</td>\n",
              "      <td>0.096360</td>\n",
              "      <td>0.104341</td>\n",
              "      <td>0.088799</td>\n",
              "      <td>0.048919</td>\n",
              "      <td>0.181162</td>\n",
              "      <td>0.062798</td>\n",
              "      <td>0.405172</td>\n",
              "      <td>1.216853</td>\n",
              "      <td>2.866059</td>\n",
              "      <td>40.337079</td>\n",
              "      <td>0.007041</td>\n",
              "      <td>0.025478</td>\n",
              "      <td>0.031894</td>\n",
              "      <td>0.011796</td>\n",
              "      <td>0.020542</td>\n",
              "      <td>0.003795</td>\n",
              "      <td>16.269190</td>\n",
              "      <td>25.677223</td>\n",
              "      <td>107.261213</td>\n",
              "      <td>880.583128</td>\n",
              "      <td>0.132369</td>\n",
              "      <td>0.254265</td>\n",
              "      <td>0.272188</td>\n",
              "      <td>0.114606</td>\n",
              "      <td>0.290076</td>\n",
              "      <td>0.083946</td>\n",
              "    </tr>\n",
              "    <tr>\n",
              "      <th>std</th>\n",
              "      <td>0.483918</td>\n",
              "      <td>3.524049</td>\n",
              "      <td>4.301036</td>\n",
              "      <td>24.298981</td>\n",
              "      <td>351.914129</td>\n",
              "      <td>0.014064</td>\n",
              "      <td>0.052813</td>\n",
              "      <td>0.079720</td>\n",
              "      <td>0.038803</td>\n",
              "      <td>0.027414</td>\n",
              "      <td>0.007060</td>\n",
              "      <td>0.277313</td>\n",
              "      <td>0.551648</td>\n",
              "      <td>2.021855</td>\n",
              "      <td>45.491006</td>\n",
              "      <td>0.003003</td>\n",
              "      <td>0.017908</td>\n",
              "      <td>0.030186</td>\n",
              "      <td>0.006170</td>\n",
              "      <td>0.008266</td>\n",
              "      <td>0.002646</td>\n",
              "      <td>4.833242</td>\n",
              "      <td>6.146258</td>\n",
              "      <td>33.602542</td>\n",
              "      <td>569.356993</td>\n",
              "      <td>0.022832</td>\n",
              "      <td>0.157336</td>\n",
              "      <td>0.208624</td>\n",
              "      <td>0.065732</td>\n",
              "      <td>0.061867</td>\n",
              "      <td>0.018061</td>\n",
              "    </tr>\n",
              "    <tr>\n",
              "      <th>min</th>\n",
              "      <td>0.000000</td>\n",
              "      <td>6.981000</td>\n",
              "      <td>9.710000</td>\n",
              "      <td>43.790000</td>\n",
              "      <td>143.500000</td>\n",
              "      <td>0.052630</td>\n",
              "      <td>0.019380</td>\n",
              "      <td>0.000000</td>\n",
              "      <td>0.000000</td>\n",
              "      <td>0.106000</td>\n",
              "      <td>0.049960</td>\n",
              "      <td>0.111500</td>\n",
              "      <td>0.360200</td>\n",
              "      <td>0.757000</td>\n",
              "      <td>6.802000</td>\n",
              "      <td>0.001713</td>\n",
              "      <td>0.002252</td>\n",
              "      <td>0.000000</td>\n",
              "      <td>0.000000</td>\n",
              "      <td>0.007882</td>\n",
              "      <td>0.000895</td>\n",
              "      <td>7.930000</td>\n",
              "      <td>12.020000</td>\n",
              "      <td>50.410000</td>\n",
              "      <td>185.200000</td>\n",
              "      <td>0.071170</td>\n",
              "      <td>0.027290</td>\n",
              "      <td>0.000000</td>\n",
              "      <td>0.000000</td>\n",
              "      <td>0.156500</td>\n",
              "      <td>0.055040</td>\n",
              "    </tr>\n",
              "    <tr>\n",
              "      <th>25%</th>\n",
              "      <td>0.000000</td>\n",
              "      <td>11.700000</td>\n",
              "      <td>16.170000</td>\n",
              "      <td>75.170000</td>\n",
              "      <td>420.300000</td>\n",
              "      <td>0.086370</td>\n",
              "      <td>0.064920</td>\n",
              "      <td>0.029560</td>\n",
              "      <td>0.020310</td>\n",
              "      <td>0.161900</td>\n",
              "      <td>0.057700</td>\n",
              "      <td>0.232400</td>\n",
              "      <td>0.833900</td>\n",
              "      <td>1.606000</td>\n",
              "      <td>17.850000</td>\n",
              "      <td>0.005169</td>\n",
              "      <td>0.013080</td>\n",
              "      <td>0.015090</td>\n",
              "      <td>0.007638</td>\n",
              "      <td>0.015160</td>\n",
              "      <td>0.002248</td>\n",
              "      <td>13.010000</td>\n",
              "      <td>21.080000</td>\n",
              "      <td>84.110000</td>\n",
              "      <td>515.300000</td>\n",
              "      <td>0.116600</td>\n",
              "      <td>0.147200</td>\n",
              "      <td>0.114500</td>\n",
              "      <td>0.064930</td>\n",
              "      <td>0.250400</td>\n",
              "      <td>0.071460</td>\n",
              "    </tr>\n",
              "    <tr>\n",
              "      <th>50%</th>\n",
              "      <td>0.000000</td>\n",
              "      <td>13.370000</td>\n",
              "      <td>18.840000</td>\n",
              "      <td>86.240000</td>\n",
              "      <td>551.100000</td>\n",
              "      <td>0.095870</td>\n",
              "      <td>0.092630</td>\n",
              "      <td>0.061540</td>\n",
              "      <td>0.033500</td>\n",
              "      <td>0.179200</td>\n",
              "      <td>0.061540</td>\n",
              "      <td>0.324200</td>\n",
              "      <td>1.108000</td>\n",
              "      <td>2.287000</td>\n",
              "      <td>24.530000</td>\n",
              "      <td>0.006380</td>\n",
              "      <td>0.020450</td>\n",
              "      <td>0.025890</td>\n",
              "      <td>0.010930</td>\n",
              "      <td>0.018730</td>\n",
              "      <td>0.003187</td>\n",
              "      <td>14.970000</td>\n",
              "      <td>25.410000</td>\n",
              "      <td>97.660000</td>\n",
              "      <td>686.500000</td>\n",
              "      <td>0.131300</td>\n",
              "      <td>0.211900</td>\n",
              "      <td>0.226700</td>\n",
              "      <td>0.099930</td>\n",
              "      <td>0.282200</td>\n",
              "      <td>0.080040</td>\n",
              "    </tr>\n",
              "    <tr>\n",
              "      <th>75%</th>\n",
              "      <td>1.000000</td>\n",
              "      <td>15.780000</td>\n",
              "      <td>21.800000</td>\n",
              "      <td>104.100000</td>\n",
              "      <td>782.700000</td>\n",
              "      <td>0.105300</td>\n",
              "      <td>0.130400</td>\n",
              "      <td>0.130700</td>\n",
              "      <td>0.074000</td>\n",
              "      <td>0.195700</td>\n",
              "      <td>0.066120</td>\n",
              "      <td>0.478900</td>\n",
              "      <td>1.474000</td>\n",
              "      <td>3.357000</td>\n",
              "      <td>45.190000</td>\n",
              "      <td>0.008146</td>\n",
              "      <td>0.032450</td>\n",
              "      <td>0.042050</td>\n",
              "      <td>0.014710</td>\n",
              "      <td>0.023480</td>\n",
              "      <td>0.004558</td>\n",
              "      <td>18.790000</td>\n",
              "      <td>29.720000</td>\n",
              "      <td>125.400000</td>\n",
              "      <td>1084.000000</td>\n",
              "      <td>0.146000</td>\n",
              "      <td>0.339100</td>\n",
              "      <td>0.382900</td>\n",
              "      <td>0.161400</td>\n",
              "      <td>0.317900</td>\n",
              "      <td>0.092080</td>\n",
              "    </tr>\n",
              "    <tr>\n",
              "      <th>max</th>\n",
              "      <td>1.000000</td>\n",
              "      <td>28.110000</td>\n",
              "      <td>39.280000</td>\n",
              "      <td>188.500000</td>\n",
              "      <td>2501.000000</td>\n",
              "      <td>0.163400</td>\n",
              "      <td>0.345400</td>\n",
              "      <td>0.426800</td>\n",
              "      <td>0.201200</td>\n",
              "      <td>0.304000</td>\n",
              "      <td>0.097440</td>\n",
              "      <td>2.873000</td>\n",
              "      <td>4.885000</td>\n",
              "      <td>21.980000</td>\n",
              "      <td>542.200000</td>\n",
              "      <td>0.031130</td>\n",
              "      <td>0.135400</td>\n",
              "      <td>0.396000</td>\n",
              "      <td>0.052790</td>\n",
              "      <td>0.078950</td>\n",
              "      <td>0.029840</td>\n",
              "      <td>36.040000</td>\n",
              "      <td>49.540000</td>\n",
              "      <td>251.200000</td>\n",
              "      <td>4254.000000</td>\n",
              "      <td>0.222600</td>\n",
              "      <td>1.058000</td>\n",
              "      <td>1.252000</td>\n",
              "      <td>0.291000</td>\n",
              "      <td>0.663800</td>\n",
              "      <td>0.207500</td>\n",
              "    </tr>\n",
              "  </tbody>\n",
              "</table>\n",
              "</div>\n",
              "      <button class=\"colab-df-convert\" onclick=\"convertToInteractive('df-61b33a68-c10e-4748-bbc5-e7bc1518cb86')\"\n",
              "              title=\"Convert this dataframe to an interactive table.\"\n",
              "              style=\"display:none;\">\n",
              "        \n",
              "  <svg xmlns=\"http://www.w3.org/2000/svg\" height=\"24px\"viewBox=\"0 0 24 24\"\n",
              "       width=\"24px\">\n",
              "    <path d=\"M0 0h24v24H0V0z\" fill=\"none\"/>\n",
              "    <path d=\"M18.56 5.44l.94 2.06.94-2.06 2.06-.94-2.06-.94-.94-2.06-.94 2.06-2.06.94zm-11 1L8.5 8.5l.94-2.06 2.06-.94-2.06-.94L8.5 2.5l-.94 2.06-2.06.94zm10 10l.94 2.06.94-2.06 2.06-.94-2.06-.94-.94-2.06-.94 2.06-2.06.94z\"/><path d=\"M17.41 7.96l-1.37-1.37c-.4-.4-.92-.59-1.43-.59-.52 0-1.04.2-1.43.59L10.3 9.45l-7.72 7.72c-.78.78-.78 2.05 0 2.83L4 21.41c.39.39.9.59 1.41.59.51 0 1.02-.2 1.41-.59l7.78-7.78 2.81-2.81c.8-.78.8-2.07 0-2.86zM5.41 20L4 18.59l7.72-7.72 1.47 1.35L5.41 20z\"/>\n",
              "  </svg>\n",
              "      </button>\n",
              "      \n",
              "  <style>\n",
              "    .colab-df-container {\n",
              "      display:flex;\n",
              "      flex-wrap:wrap;\n",
              "      gap: 12px;\n",
              "    }\n",
              "\n",
              "    .colab-df-convert {\n",
              "      background-color: #E8F0FE;\n",
              "      border: none;\n",
              "      border-radius: 50%;\n",
              "      cursor: pointer;\n",
              "      display: none;\n",
              "      fill: #1967D2;\n",
              "      height: 32px;\n",
              "      padding: 0 0 0 0;\n",
              "      width: 32px;\n",
              "    }\n",
              "\n",
              "    .colab-df-convert:hover {\n",
              "      background-color: #E2EBFA;\n",
              "      box-shadow: 0px 1px 2px rgba(60, 64, 67, 0.3), 0px 1px 3px 1px rgba(60, 64, 67, 0.15);\n",
              "      fill: #174EA6;\n",
              "    }\n",
              "\n",
              "    [theme=dark] .colab-df-convert {\n",
              "      background-color: #3B4455;\n",
              "      fill: #D2E3FC;\n",
              "    }\n",
              "\n",
              "    [theme=dark] .colab-df-convert:hover {\n",
              "      background-color: #434B5C;\n",
              "      box-shadow: 0px 1px 3px 1px rgba(0, 0, 0, 0.15);\n",
              "      filter: drop-shadow(0px 1px 2px rgba(0, 0, 0, 0.3));\n",
              "      fill: #FFFFFF;\n",
              "    }\n",
              "  </style>\n",
              "\n",
              "      <script>\n",
              "        const buttonEl =\n",
              "          document.querySelector('#df-61b33a68-c10e-4748-bbc5-e7bc1518cb86 button.colab-df-convert');\n",
              "        buttonEl.style.display =\n",
              "          google.colab.kernel.accessAllowed ? 'block' : 'none';\n",
              "\n",
              "        async function convertToInteractive(key) {\n",
              "          const element = document.querySelector('#df-61b33a68-c10e-4748-bbc5-e7bc1518cb86');\n",
              "          const dataTable =\n",
              "            await google.colab.kernel.invokeFunction('convertToInteractive',\n",
              "                                                     [key], {});\n",
              "          if (!dataTable) return;\n",
              "\n",
              "          const docLinkHtml = 'Like what you see? Visit the ' +\n",
              "            '<a target=\"_blank\" href=https://colab.research.google.com/notebooks/data_table.ipynb>data table notebook</a>'\n",
              "            + ' to learn more about interactive tables.';\n",
              "          element.innerHTML = '';\n",
              "          dataTable['output_type'] = 'display_data';\n",
              "          await google.colab.output.renderOutput(dataTable, element);\n",
              "          const docLink = document.createElement('div');\n",
              "          docLink.innerHTML = docLinkHtml;\n",
              "          element.appendChild(docLink);\n",
              "        }\n",
              "      </script>\n",
              "    </div>\n",
              "  </div>\n",
              "  "
            ],
            "text/plain": [
              "        diagnosis  radius_mean  ...  symmetry_worst  fractal_dimension_worst\n",
              "count  569.000000   569.000000  ...      569.000000               569.000000\n",
              "mean     0.372583    14.127292  ...        0.290076                 0.083946\n",
              "std      0.483918     3.524049  ...        0.061867                 0.018061\n",
              "min      0.000000     6.981000  ...        0.156500                 0.055040\n",
              "25%      0.000000    11.700000  ...        0.250400                 0.071460\n",
              "50%      0.000000    13.370000  ...        0.282200                 0.080040\n",
              "75%      1.000000    15.780000  ...        0.317900                 0.092080\n",
              "max      1.000000    28.110000  ...        0.663800                 0.207500\n",
              "\n",
              "[8 rows x 31 columns]"
            ]
          },
          "metadata": {},
          "execution_count": 9
        }
      ]
    },
    {
      "cell_type": "code",
      "source": [
        "df['diagnosis'].value_counts()"
      ],
      "metadata": {
        "execution": {
          "iopub.status.busy": "2022-02-24T06:17:22.622384Z",
          "iopub.execute_input": "2022-02-24T06:17:22.623045Z",
          "iopub.status.idle": "2022-02-24T06:17:22.629474Z",
          "shell.execute_reply.started": "2022-02-24T06:17:22.622994Z",
          "shell.execute_reply": "2022-02-24T06:17:22.628749Z"
        },
        "trusted": true,
        "colab": {
          "base_uri": "https://localhost:8080/"
        },
        "id": "dV9ue60sk8RD",
        "outputId": "77401bde-45ae-4383-bafa-33bc18e77607"
      },
      "execution_count": 10,
      "outputs": [
        {
          "output_type": "execute_result",
          "data": {
            "text/plain": [
              "0    357\n",
              "1    212\n",
              "Name: diagnosis, dtype: int64"
            ]
          },
          "metadata": {},
          "execution_count": 10
        }
      ]
    },
    {
      "cell_type": "markdown",
      "source": [
        "# 3.   **Functions**"
      ],
      "metadata": {
        "id": "i7NrWgT1k8RE"
      }
    },
    {
      "cell_type": "markdown",
      "source": [
        ""
      ],
      "metadata": {
        "id": "jjHU-9fQk8RG"
      }
    },
    {
      "cell_type": "code",
      "source": [
        "# Confusion matrix \n",
        "def plot_confusion_matrix(cm, classes,\n",
        "                          normalize = False,\n",
        "                          title = 'Confusion matrix\"',\n",
        "                          cmap = plt.cm.Blues) :\n",
        "    plt.imshow(cm, interpolation = 'nearest', cmap = cmap)\n",
        "    plt.title(title)\n",
        "    plt.colorbar()\n",
        "    tick_marks = np.arange(len(classes))\n",
        "    plt.xticks(tick_marks, classes, rotation = 0)\n",
        "    plt.yticks(tick_marks, classes)\n",
        "\n",
        "    thresh = cm.max() / 2.\n",
        "    for i, j in itertools.product(range(cm.shape[0]), range(cm.shape[1])) :\n",
        "        plt.text(j, i, cm[i, j],\n",
        "                 horizontalalignment = 'center',\n",
        "                 color = 'white' if cm[i, j] > thresh else 'black')\n",
        "\n",
        "    plt.tight_layout()\n",
        "    plt.ylabel('True label')\n",
        "    plt.xlabel('Predicted label')\n",
        "    \n",
        "# Show metrics \n",
        "def show_metrics():\n",
        "    tp = cm[1,1]\n",
        "    fn = cm[1,0]\n",
        "    fp = cm[0,1]\n",
        "    tn = cm[0,0]\n",
        "    print('Accuracy  =     {:.3f}'.format((tp+tn)/(tp+tn+fp+fn)))\n",
        "    print('Precision =     {:.3f}'.format(tp/(tp+fp)))\n",
        "    print('Recall    =     {:.3f}'.format(tp/(tp+fn)))\n",
        "    print('F1_score  =     {:.3f}'.format(2*(((tp/(tp+fp))*(tp/(tp+fn)))/\n",
        "                                                 ((tp/(tp+fp))+(tp/(tp+fn))))))"
      ],
      "metadata": {
        "execution": {
          "iopub.status.busy": "2022-02-24T06:17:22.631269Z",
          "iopub.execute_input": "2022-02-24T06:17:22.631737Z",
          "iopub.status.idle": "2022-02-24T06:17:22.644226Z",
          "shell.execute_reply.started": "2022-02-24T06:17:22.631695Z",
          "shell.execute_reply": "2022-02-24T06:17:22.643461Z"
        },
        "trusted": true,
        "id": "UPQ7bzDmk8RH"
      },
      "execution_count": 11,
      "outputs": []
    },
    {
      "cell_type": "markdown",
      "source": [
        ""
      ],
      "metadata": {
        "id": "Cn7RLjTYk8RJ"
      }
    },
    {
      "cell_type": "code",
      "source": [
        "# Precision-recall curve\n",
        "def plot_precision_recall():\n",
        "    plt.step(recall, precision, color = 'b', alpha = 0.2,\n",
        "             where = 'post')\n",
        "    plt.fill_between(recall, precision, step ='post', alpha = 0.2,\n",
        "                 color = 'b')\n",
        "\n",
        "    plt.plot(recall, precision, linewidth=2)\n",
        "    plt.xlim([0.0,1])\n",
        "    plt.ylim([0.0,1.05])\n",
        "    plt.xlabel('Recall')\n",
        "    plt.ylabel('Precision')\n",
        "    plt.title('Precision Recall Curve')\n",
        "    plt.show();"
      ],
      "metadata": {
        "execution": {
          "iopub.status.busy": "2022-02-24T06:17:22.645168Z",
          "iopub.execute_input": "2022-02-24T06:17:22.645403Z",
          "iopub.status.idle": "2022-02-24T06:17:22.656590Z",
          "shell.execute_reply.started": "2022-02-24T06:17:22.645378Z",
          "shell.execute_reply": "2022-02-24T06:17:22.656102Z"
        },
        "trusted": true,
        "id": "0d6kpLgFk8RL"
      },
      "execution_count": 12,
      "outputs": []
    },
    {
      "cell_type": "markdown",
      "source": [
        ""
      ],
      "metadata": {
        "id": "rlJNbtdJk8RW"
      }
    },
    {
      "cell_type": "markdown",
      "source": [
        "# 4.  **Prepare Dataset** "
      ],
      "metadata": {
        "id": "kAUY09Fik8RY"
      }
    },
    {
      "cell_type": "markdown",
      "source": [
        "# 4.1. Define (X, y) "
      ],
      "metadata": {
        "id": "PxZlvtvyk8Ra"
      }
    },
    {
      "cell_type": "code",
      "source": [
        "y = df.diagnosis\n",
        "X = df.drop('diagnosis', axis=1)\n",
        "z = X"
      ],
      "metadata": {
        "execution": {
          "iopub.status.busy": "2022-02-24T06:17:22.657384Z",
          "iopub.execute_input": "2022-02-24T06:17:22.657837Z",
          "iopub.status.idle": "2022-02-24T06:17:22.665346Z",
          "shell.execute_reply.started": "2022-02-24T06:17:22.657813Z",
          "shell.execute_reply": "2022-02-24T06:17:22.664870Z"
        },
        "trusted": true,
        "id": "r2o3KBHyk8Rc"
      },
      "execution_count": 13,
      "outputs": []
    },
    {
      "cell_type": "markdown",
      "source": [
        "# 4.2. Standard scaler (X)"
      ],
      "metadata": {
        "id": "DvlB53yEk8Rk"
      }
    },
    {
      "cell_type": "code",
      "source": [
        "# Normalization\n",
        "scaler = StandardScaler()\n",
        "X = scaler.fit_transform(X)"
      ],
      "metadata": {
        "execution": {
          "iopub.status.busy": "2022-02-24T06:17:22.666268Z",
          "iopub.execute_input": "2022-02-24T06:17:22.666682Z",
          "iopub.status.idle": "2022-02-24T06:17:22.677138Z",
          "shell.execute_reply.started": "2022-02-24T06:17:22.666657Z",
          "shell.execute_reply": "2022-02-24T06:17:22.676641Z"
        },
        "trusted": true,
        "id": "kXun7Xrak8Rl"
      },
      "execution_count": 14,
      "outputs": []
    },
    {
      "cell_type": "markdown",
      "source": [
        "# 4.3. Train_test split"
      ],
      "metadata": {
        "id": "jCGU337pk8Rm"
      }
    },
    {
      "cell_type": "code",
      "source": [
        "# Train_test split\n",
        "SEED = 1 \n",
        "X_train, X_test, y_train, y_test = train_test_split(X, y, test_size=0.3, stratify = y, random_state = SEED)"
      ],
      "metadata": {
        "execution": {
          "iopub.status.busy": "2022-02-24T06:17:22.678363Z",
          "iopub.execute_input": "2022-02-24T06:17:22.678656Z",
          "iopub.status.idle": "2022-02-24T06:17:22.686589Z",
          "shell.execute_reply.started": "2022-02-24T06:17:22.678632Z",
          "shell.execute_reply": "2022-02-24T06:17:22.685780Z"
        },
        "trusted": true,
        "id": "QR_NbQC6k8Rn"
      },
      "execution_count": 15,
      "outputs": []
    },
    {
      "cell_type": "markdown",
      "source": [
        "# 5. **Trees** "
      ],
      "metadata": {
        "id": "a8VeeXqsk8Ro"
      }
    },
    {
      "cell_type": "markdown",
      "source": [
        "# 5.1. DescisionTreeClassifier "
      ],
      "metadata": {
        "execution": {
          "iopub.status.busy": "2022-02-12T07:38:30.094577Z",
          "iopub.execute_input": "2022-02-12T07:38:30.094954Z",
          "iopub.status.idle": "2022-02-12T07:38:30.101806Z",
          "shell.execute_reply.started": "2022-02-12T07:38:30.094911Z",
          "shell.execute_reply": "2022-02-12T07:38:30.100707Z"
        },
        "id": "1WLHN0jHk8Rp"
      }
    },
    {
      "cell_type": "code",
      "source": [
        "\n",
        "dtc = DecisionTreeClassifier( max_depth=4,min_samples_leaf=0.14, random_state=SEED)\n",
        "\n",
        "\n",
        "\n",
        "dtc.fit(X_train,y_train)\n",
        "\n",
        "y_pred = dtc.predict(X_test)"
      ],
      "metadata": {
        "execution": {
          "iopub.status.busy": "2022-02-24T06:17:22.687699Z",
          "iopub.execute_input": "2022-02-24T06:17:22.688226Z",
          "iopub.status.idle": "2022-02-24T06:17:22.697862Z",
          "shell.execute_reply.started": "2022-02-24T06:17:22.688172Z",
          "shell.execute_reply": "2022-02-24T06:17:22.697211Z"
        },
        "trusted": true,
        "id": "voK-_1t3k8Rq"
      },
      "execution_count": 16,
      "outputs": []
    },
    {
      "cell_type": "code",
      "source": [
        "# accuracy_score(X_train,y_train)"
      ],
      "metadata": {
        "execution": {
          "iopub.status.busy": "2022-02-24T06:17:22.698835Z",
          "iopub.execute_input": "2022-02-24T06:17:22.699340Z",
          "iopub.status.idle": "2022-02-24T06:17:22.704754Z",
          "shell.execute_reply.started": "2022-02-24T06:17:22.699303Z",
          "shell.execute_reply": "2022-02-24T06:17:22.704230Z"
        },
        "trusted": true,
        "id": "KocK7Rg0k8R1"
      },
      "execution_count": 17,
      "outputs": []
    },
    {
      "cell_type": "code",
      "source": [
        "accuracy_score(y_test, y_pred)"
      ],
      "metadata": {
        "execution": {
          "iopub.status.busy": "2022-02-24T06:17:22.705718Z",
          "iopub.execute_input": "2022-02-24T06:17:22.706290Z",
          "iopub.status.idle": "2022-02-24T06:17:22.715711Z",
          "shell.execute_reply.started": "2022-02-24T06:17:22.706257Z",
          "shell.execute_reply": "2022-02-24T06:17:22.715218Z"
        },
        "trusted": true,
        "colab": {
          "base_uri": "https://localhost:8080/"
        },
        "id": "DmTIhDnXk8R4",
        "outputId": "57bc22d6-d848-4112-d4e5-586aeb2b9629"
      },
      "execution_count": 18,
      "outputs": [
        {
          "output_type": "execute_result",
          "data": {
            "text/plain": [
              "0.8888888888888888"
            ]
          },
          "metadata": {},
          "execution_count": 18
        }
      ]
    },
    {
      "cell_type": "code",
      "source": [
        "# Confusion maxtrix & metrics\n",
        "cm = confusion_matrix(y_test, y_pred)\n",
        "class_names = [0,1]\n",
        "plt.figure()\n",
        "plot_confusion_matrix(cm, \n",
        "                      classes=class_names, \n",
        "                      title='Tree Confusion matrix')\n",
        "plt.savefig('3')\n",
        "plt.show()\n",
        "\n",
        "show_metrics()"
      ],
      "metadata": {
        "execution": {
          "iopub.status.busy": "2022-02-24T06:17:22.716538Z",
          "iopub.execute_input": "2022-02-24T06:17:22.717052Z",
          "iopub.status.idle": "2022-02-24T06:17:23.030344Z",
          "shell.execute_reply.started": "2022-02-24T06:17:22.717016Z",
          "shell.execute_reply": "2022-02-24T06:17:23.029578Z"
        },
        "trusted": true,
        "colab": {
          "base_uri": "https://localhost:8080/",
          "height": 384
        },
        "id": "aThH5Jpik8R5",
        "outputId": "4bdfc463-5ecd-4405-c29c-0a9af0698b3e"
      },
      "execution_count": 19,
      "outputs": [
        {
          "output_type": "display_data",
          "data": {
            "image/png": "[encoded data removed]",
            "text/plain": [
              "<Figure size 432x288 with 2 Axes>"
            ]
          },
          "metadata": {
            "needs_background": "light"
          }
        },
        {
          "output_type": "stream",
          "name": "stdout",
          "text": [
            "Accuracy  =     0.889\n",
            "Precision =     0.979\n",
            "Recall    =     0.719\n",
            "F1_score  =     0.829\n"
          ]
        }
      ]
    },
    {
      "cell_type": "code",
      "source": [
        "print(classification_report(y_test, y_pred))"
      ],
      "metadata": {
        "execution": {
          "iopub.status.busy": "2022-02-24T06:17:23.031796Z",
          "iopub.execute_input": "2022-02-24T06:17:23.032021Z",
          "iopub.status.idle": "2022-02-24T06:17:23.040944Z",
          "shell.execute_reply.started": "2022-02-24T06:17:23.031993Z",
          "shell.execute_reply": "2022-02-24T06:17:23.040234Z"
        },
        "trusted": true,
        "colab": {
          "base_uri": "https://localhost:8080/"
        },
        "id": "TmXLpOb2k8R7",
        "outputId": "9970f29f-1c4c-4d6a-e539-1556e842d191"
      },
      "execution_count": 20,
      "outputs": [
        {
          "output_type": "stream",
          "name": "stdout",
          "text": [
            "              precision    recall  f1-score   support\n",
            "\n",
            "           0       0.85      0.99      0.92       107\n",
            "           1       0.98      0.72      0.83        64\n",
            "\n",
            "    accuracy                           0.89       171\n",
            "   macro avg       0.92      0.85      0.87       171\n",
            "weighted avg       0.90      0.89      0.88       171\n",
            "\n"
          ]
        }
      ]
    },
    {
      "cell_type": "code",
      "source": [
        ""
      ],
      "metadata": {
        "trusted": true,
        "id": "_52sbri9k8R8"
      },
      "execution_count": 20,
      "outputs": []
    },
    {
      "cell_type": "markdown",
      "source": [
        "# Cross-Validation"
      ],
      "metadata": {
        "id": "7xRnoVJok8R_"
      }
    },
    {
      "cell_type": "code",
      "source": [
        "SEED =113\n",
        "dt = DecisionTreeClassifier( max_depth=4,min_samples_leaf=0.14,random_state=SEED)"
      ],
      "metadata": {
        "execution": {
          "iopub.status.busy": "2022-02-24T06:17:23.042041Z",
          "iopub.execute_input": "2022-02-24T06:17:23.042259Z",
          "iopub.status.idle": "2022-02-24T06:17:23.046656Z",
          "shell.execute_reply.started": "2022-02-24T06:17:23.042233Z",
          "shell.execute_reply": "2022-02-24T06:17:23.045717Z"
        },
        "trusted": true,
        "id": "muGA1KlPk8SE"
      },
      "execution_count": 21,
      "outputs": []
    },
    {
      "cell_type": "code",
      "source": [
        "cv_C = cross_val_score(dt,X_train, y_train, cv=10,scoring ='accuracy', n_jobs=-1)"
      ],
      "metadata": {
        "execution": {
          "iopub.status.busy": "2022-02-24T06:17:23.047819Z",
          "iopub.execute_input": "2022-02-24T06:17:23.048015Z",
          "iopub.status.idle": "2022-02-24T06:17:25.268376Z",
          "shell.execute_reply.started": "2022-02-24T06:17:23.047983Z",
          "shell.execute_reply": "2022-02-24T06:17:25.267334Z"
        },
        "trusted": true,
        "id": "8tCuUa_Bk8SH"
      },
      "execution_count": 22,
      "outputs": []
    },
    {
      "cell_type": "code",
      "source": [
        "# various scores\n",
        "sorted(sklearn.metrics.SCORERS.keys())"
      ],
      "metadata": {
        "execution": {
          "iopub.status.busy": "2022-02-24T06:17:25.270782Z",
          "iopub.execute_input": "2022-02-24T06:17:25.271297Z",
          "iopub.status.idle": "2022-02-24T06:17:25.279396Z",
          "shell.execute_reply.started": "2022-02-24T06:17:25.271256Z",
          "shell.execute_reply": "2022-02-24T06:17:25.278562Z"
        },
        "trusted": true,
        "colab": {
          "base_uri": "https://localhost:8080/"
        },
        "id": "O6QbrazAk8SJ",
        "outputId": "d38c1bfa-106a-487d-e6c0-c2849c145ac8"
      },
      "execution_count": 23,
      "outputs": [
        {
          "output_type": "execute_result",
          "data": {
            "text/plain": [
              "['accuracy',\n",
              " 'adjusted_mutual_info_score',\n",
              " 'adjusted_rand_score',\n",
              " 'average_precision',\n",
              " 'balanced_accuracy',\n",
              " 'completeness_score',\n",
              " 'explained_variance',\n",
              " 'f1',\n",
              " 'f1_macro',\n",
              " 'f1_micro',\n",
              " 'f1_samples',\n",
              " 'f1_weighted',\n",
              " 'fowlkes_mallows_score',\n",
              " 'homogeneity_score',\n",
              " 'jaccard',\n",
              " 'jaccard_macro',\n",
              " 'jaccard_micro',\n",
              " 'jaccard_samples',\n",
              " 'jaccard_weighted',\n",
              " 'max_error',\n",
              " 'mutual_info_score',\n",
              " 'neg_brier_score',\n",
              " 'neg_log_loss',\n",
              " 'neg_mean_absolute_error',\n",
              " 'neg_mean_absolute_percentage_error',\n",
              " 'neg_mean_gamma_deviance',\n",
              " 'neg_mean_poisson_deviance',\n",
              " 'neg_mean_squared_error',\n",
              " 'neg_mean_squared_log_error',\n",
              " 'neg_median_absolute_error',\n",
              " 'neg_root_mean_squared_error',\n",
              " 'normalized_mutual_info_score',\n",
              " 'precision',\n",
              " 'precision_macro',\n",
              " 'precision_micro',\n",
              " 'precision_samples',\n",
              " 'precision_weighted',\n",
              " 'r2',\n",
              " 'rand_score',\n",
              " 'recall',\n",
              " 'recall_macro',\n",
              " 'recall_micro',\n",
              " 'recall_samples',\n",
              " 'recall_weighted',\n",
              " 'roc_auc',\n",
              " 'roc_auc_ovo',\n",
              " 'roc_auc_ovo_weighted',\n",
              " 'roc_auc_ovr',\n",
              " 'roc_auc_ovr_weighted',\n",
              " 'top_k_accuracy',\n",
              " 'v_measure_score']"
            ]
          },
          "metadata": {},
          "execution_count": 23
        }
      ]
    },
    {
      "cell_type": "code",
      "source": [
        "# Fit 'dt' to the training set          \n",
        "dt.fit(X_train, y_train)"
      ],
      "metadata": {
        "execution": {
          "iopub.status.busy": "2022-02-24T06:17:25.280887Z",
          "iopub.execute_input": "2022-02-24T06:17:25.281463Z",
          "iopub.status.idle": "2022-02-24T06:17:25.299436Z",
          "shell.execute_reply.started": "2022-02-24T06:17:25.281429Z",
          "shell.execute_reply": "2022-02-24T06:17:25.298765Z"
        },
        "trusted": true,
        "colab": {
          "base_uri": "https://localhost:8080/"
        },
        "id": "1BA9pJrSk8SK",
        "outputId": "c135770b-292c-4232-c111-12c8ed00817b"
      },
      "execution_count": 24,
      "outputs": [
        {
          "output_type": "execute_result",
          "data": {
            "text/plain": [
              "DecisionTreeClassifier(max_depth=4, min_samples_leaf=0.14, random_state=113)"
            ]
          },
          "metadata": {},
          "execution_count": 24
        }
      ]
    },
    {
      "cell_type": "code",
      "source": [
        "# Predict the labels of training set\n",
        "y_predict_train = dt.predict(X_train)"
      ],
      "metadata": {
        "execution": {
          "iopub.status.busy": "2022-02-24T06:17:25.300989Z",
          "iopub.execute_input": "2022-02-24T06:17:25.303374Z",
          "iopub.status.idle": "2022-02-24T06:17:25.309718Z",
          "shell.execute_reply.started": "2022-02-24T06:17:25.303329Z",
          "shell.execute_reply": "2022-02-24T06:17:25.308916Z"
        },
        "trusted": true,
        "id": "Px6potuok8SL"
      },
      "execution_count": 25,
      "outputs": []
    },
    {
      "cell_type": "code",
      "source": [
        "# Predict the labels of test set\n",
        "y_predict_test = dt.predict(X_test)"
      ],
      "metadata": {
        "execution": {
          "iopub.status.busy": "2022-02-24T06:17:25.312086Z",
          "iopub.execute_input": "2022-02-24T06:17:25.312642Z",
          "iopub.status.idle": "2022-02-24T06:17:25.316997Z",
          "shell.execute_reply.started": "2022-02-24T06:17:25.312604Z",
          "shell.execute_reply": "2022-02-24T06:17:25.316447Z"
        },
        "trusted": true,
        "id": "ANTqX_Eqk8SM"
      },
      "execution_count": 26,
      "outputs": []
    },
    {
      "cell_type": "code",
      "source": [
        "#CV accuracy\n",
        "print('CV accuracy:{:.2f}'.format(cv_C.mean()))"
      ],
      "metadata": {
        "execution": {
          "iopub.status.busy": "2022-02-24T06:17:25.322781Z",
          "iopub.execute_input": "2022-02-24T06:17:25.323246Z",
          "iopub.status.idle": "2022-02-24T06:17:25.326631Z",
          "shell.execute_reply.started": "2022-02-24T06:17:25.323157Z",
          "shell.execute_reply": "2022-02-24T06:17:25.326172Z"
        },
        "trusted": true,
        "colab": {
          "base_uri": "https://localhost:8080/"
        },
        "id": "gTfuE_Mck8SN",
        "outputId": "532f8096-d4f0-41f0-fc52-07fed53b75e6"
      },
      "execution_count": 27,
      "outputs": [
        {
          "output_type": "stream",
          "name": "stdout",
          "text": [
            "CV accuracy:0.89\n"
          ]
        }
      ]
    },
    {
      "cell_type": "code",
      "source": [
        "#train set accuracy\n",
        "print('Train sccuracy:{:.2f}'.format(accuracy_score(y_train, y_predict_train)))"
      ],
      "metadata": {
        "execution": {
          "iopub.status.busy": "2022-02-24T06:17:25.327510Z",
          "iopub.execute_input": "2022-02-24T06:17:25.327801Z",
          "iopub.status.idle": "2022-02-24T06:17:25.336719Z",
          "shell.execute_reply.started": "2022-02-24T06:17:25.327777Z",
          "shell.execute_reply": "2022-02-24T06:17:25.335981Z"
        },
        "trusted": true,
        "colab": {
          "base_uri": "https://localhost:8080/"
        },
        "id": "4gJosrT-k8SO",
        "outputId": "d4c63c5c-439b-4ddb-dd6c-951ad484a22b"
      },
      "execution_count": 28,
      "outputs": [
        {
          "output_type": "stream",
          "name": "stdout",
          "text": [
            "Train sccuracy:0.93\n"
          ]
        }
      ]
    },
    {
      "cell_type": "code",
      "source": [
        "#test set accuracy\n",
        "print('Test accuracy:{:.2f}'.format(accuracy_score(y_test, y_predict_test)))"
      ],
      "metadata": {
        "execution": {
          "iopub.status.busy": "2022-02-24T06:17:25.337546Z",
          "iopub.execute_input": "2022-02-24T06:17:25.337958Z",
          "iopub.status.idle": "2022-02-24T06:17:25.344516Z",
          "shell.execute_reply.started": "2022-02-24T06:17:25.337910Z",
          "shell.execute_reply": "2022-02-24T06:17:25.343852Z"
        },
        "trusted": true,
        "colab": {
          "base_uri": "https://localhost:8080/"
        },
        "id": "ZWr--FaGk8SP",
        "outputId": "352df680-77ed-40ed-c261-b5ce6d9ba265"
      },
      "execution_count": 29,
      "outputs": [
        {
          "output_type": "stream",
          "name": "stdout",
          "text": [
            "Test accuracy:0.89\n"
          ]
        }
      ]
    },
    {
      "cell_type": "code",
      "source": [
        ""
      ],
      "metadata": {
        "id": "QqvSbHbjk8SU"
      },
      "execution_count": 29,
      "outputs": []
    },
    {
      "cell_type": "markdown",
      "source": [
        "# 5.2. Bagging"
      ],
      "metadata": {
        "id": "IdJJN_6Tk8SX"
      }
    },
    {
      "cell_type": "code",
      "source": [
        "# Instantiate a classification-tree 'dt'\n",
        "dt = DecisionTreeClassifier( max_depth=4,min_samples_leaf=0.14,random_state=1)\n",
        "\n",
        "# Instantiate a BaggingClassifier 'bc'\n",
        "bc = BaggingClassifier(base_estimator =dt, n_estimators=300, n_jobs=-1)\n",
        "# fit bc to Train set\n",
        "bc.fit(X_train, y_train)\n",
        "# predict \n",
        "y_pred = bc.predict(X_test)\n",
        "\n"
      ],
      "metadata": {
        "execution": {
          "iopub.status.busy": "2022-02-24T06:17:25.345818Z",
          "iopub.execute_input": "2022-02-24T06:17:25.346362Z",
          "iopub.status.idle": "2022-02-24T06:17:25.945087Z",
          "shell.execute_reply.started": "2022-02-24T06:17:25.346336Z",
          "shell.execute_reply": "2022-02-24T06:17:25.944429Z"
        },
        "trusted": true,
        "id": "-Yrt9EWmk8SY"
      },
      "execution_count": 30,
      "outputs": []
    },
    {
      "cell_type": "code",
      "source": [
        "# Evaluate and print test-set accuracy\n",
        "accuracy = accuracy_score(y_test, y_pred)\n",
        "print('Accuracy of bagging Classifier:{:.3f}'.format(accuracy))\n"
      ],
      "metadata": {
        "execution": {
          "iopub.status.busy": "2022-02-24T06:17:25.946154Z",
          "iopub.execute_input": "2022-02-24T06:17:25.946448Z",
          "iopub.status.idle": "2022-02-24T06:17:25.952963Z",
          "shell.execute_reply.started": "2022-02-24T06:17:25.946412Z",
          "shell.execute_reply": "2022-02-24T06:17:25.952170Z"
        },
        "trusted": true,
        "colab": {
          "base_uri": "https://localhost:8080/"
        },
        "id": "ab4fC1lzk8SZ",
        "outputId": "b1add8eb-0795-4a46-f9f9-ade1b41d2d95"
      },
      "execution_count": 31,
      "outputs": [
        {
          "output_type": "stream",
          "name": "stdout",
          "text": [
            "Accuracy of bagging Classifier:0.936\n"
          ]
        }
      ]
    },
    {
      "cell_type": "code",
      "source": [
        "# Confusion maxtrix & metrics\n",
        "cm = confusion_matrix(y_test, y_pred)\n",
        "class_names = [0,1]\n",
        "plt.figure()\n",
        "plot_confusion_matrix(cm, \n",
        "                      classes=class_names, \n",
        "                      title='Tree Confusion matrix')\n",
        "plt.savefig('4')\n",
        "plt.show()\n",
        "\n",
        "show_metrics()"
      ],
      "metadata": {
        "execution": {
          "iopub.status.busy": "2022-02-24T06:17:25.954710Z",
          "iopub.execute_input": "2022-02-24T06:17:25.955351Z",
          "iopub.status.idle": "2022-02-24T06:17:26.226568Z",
          "shell.execute_reply.started": "2022-02-24T06:17:25.955307Z",
          "shell.execute_reply": "2022-02-24T06:17:26.225873Z"
        },
        "trusted": true,
        "colab": {
          "base_uri": "https://localhost:8080/",
          "height": 384
        },
        "id": "Hldi3U9Ik8Sa",
        "outputId": "92f4cb03-6819-4969-937b-17c6a2b08eef"
      },
      "execution_count": 32,
      "outputs": [
        {
          "output_type": "display_data",
          "data": {
            "image/png": "[encoded data removed]",
            "text/plain": [
              "<Figure size 432x288 with 2 Axes>"
            ]
          },
          "metadata": {
            "needs_background": "light"
          }
        },
        {
          "output_type": "stream",
          "name": "stdout",
          "text": [
            "Accuracy  =     0.936\n",
            "Precision =     0.982\n",
            "Recall    =     0.844\n",
            "F1_score  =     0.908\n"
          ]
        }
      ]
    },
    {
      "cell_type": "markdown",
      "source": [
        "# 5.2. Out-of-bag (OOB)"
      ],
      "metadata": {
        "id": "n4oFd76gk8Se"
      }
    },
    {
      "cell_type": "code",
      "source": [
        "# Instantiate a BaggingClassifier 'oob_c'; set oob_score= True\n",
        "oob_c = BaggingClassifier(base_estimator = dt, n_estimators=300, oob_score=True, n_jobs=-1)\n",
        "\n",
        "# fit bc to Train set\n",
        "oob_c.fit(X_train, y_train)\n",
        "\n",
        "# predict\n",
        "y_pred = oob_c.predict(X_test)"
      ],
      "metadata": {
        "execution": {
          "iopub.status.busy": "2022-02-24T06:17:26.227686Z",
          "iopub.execute_input": "2022-02-24T06:17:26.228004Z",
          "iopub.status.idle": "2022-02-24T06:17:26.983310Z",
          "shell.execute_reply.started": "2022-02-24T06:17:26.227965Z",
          "shell.execute_reply": "2022-02-24T06:17:26.982314Z"
        },
        "trusted": true,
        "id": "wvNdNTIek8Sq"
      },
      "execution_count": 33,
      "outputs": []
    },
    {
      "cell_type": "code",
      "source": [
        "# Evaluate test set accuracy\n",
        "accuracy = accuracy_score(y_test, y_pred)\n",
        "# oob_accuracy\n",
        "oob_accuracy = oob_c.oob_score_\n",
        "# Print test set accuracy                          \n",
        "print('test accuracy :{:.3f}'.format(accuracy))\n",
        "# Print OOB accuracy\n",
        "print('oob accuracy :{:.3f}'.format( oob_accuracy))"
      ],
      "metadata": {
        "execution": {
          "iopub.status.busy": "2022-02-24T06:17:26.984582Z",
          "iopub.execute_input": "2022-02-24T06:17:26.984977Z",
          "iopub.status.idle": "2022-02-24T06:17:26.991885Z",
          "shell.execute_reply.started": "2022-02-24T06:17:26.984933Z",
          "shell.execute_reply": "2022-02-24T06:17:26.991088Z"
        },
        "trusted": true,
        "colab": {
          "base_uri": "https://localhost:8080/"
        },
        "id": "aRORe6hnk8Sr",
        "outputId": "b7de5153-65b7-44c6-9f0e-edc1b9d4cc9d"
      },
      "execution_count": 34,
      "outputs": [
        {
          "output_type": "stream",
          "name": "stdout",
          "text": [
            "test accuracy :0.924\n",
            "oob accuracy :0.930\n"
          ]
        }
      ]
    },
    {
      "cell_type": "code",
      "source": [
        "# Confusion maxtrix & metrics\n",
        "cm = confusion_matrix(y_test, y_pred)\n",
        "class_names = [0,1]\n",
        "plt.figure()\n",
        "plot_confusion_matrix(cm, \n",
        "                      classes=class_names, \n",
        "                      title='Tree Confusion matrix')\n",
        "plt.savefig('5')\n",
        "plt.show()\n",
        "\n",
        "show_metrics()"
      ],
      "metadata": {
        "execution": {
          "iopub.status.busy": "2022-02-24T06:17:26.993212Z",
          "iopub.execute_input": "2022-02-24T06:17:26.993646Z",
          "iopub.status.idle": "2022-02-24T06:17:27.266604Z",
          "shell.execute_reply.started": "2022-02-24T06:17:26.993607Z",
          "shell.execute_reply": "2022-02-24T06:17:27.265908Z"
        },
        "trusted": true,
        "colab": {
          "base_uri": "https://localhost:8080/",
          "height": 0
        },
        "id": "-WwttapRk8St",
        "outputId": "05f0a430-b8d0-4e27-829e-11cfef70d21f"
      },
      "execution_count": 35,
      "outputs": [
        {
          "output_type": "display_data",
          "data": {
            "image/png": "[encoded data removed]",
            "text/plain": [
              "<Figure size 432x288 with 2 Axes>"
            ]
          },
          "metadata": {
            "needs_background": "light"
          }
        },
        {
          "output_type": "stream",
          "name": "stdout",
          "text": [
            "Accuracy  =     0.924\n",
            "Precision =     0.964\n",
            "Recall    =     0.828\n",
            "F1_score  =     0.891\n"
          ]
        }
      ]
    },
    {
      "cell_type": "markdown",
      "source": [
        "# 6.  **RandomForest**"
      ],
      "metadata": {
        "id": "NxY2vuink8S3"
      }
    },
    {
      "cell_type": "markdown",
      "source": [
        "# 6.1. RandomForest"
      ],
      "metadata": {
        "id": "hXnm0xYok8S5"
      }
    },
    {
      "cell_type": "code",
      "source": [
        "# RandomForest\n",
        "rf = RandomForestClassifier(n_estimators=400, min_samples_leaf=0.12, random_state=SEED)"
      ],
      "metadata": {
        "execution": {
          "iopub.status.busy": "2022-02-24T06:17:27.267564Z",
          "iopub.execute_input": "2022-02-24T06:17:27.267762Z",
          "iopub.status.idle": "2022-02-24T06:17:27.271676Z",
          "shell.execute_reply.started": "2022-02-24T06:17:27.267738Z",
          "shell.execute_reply": "2022-02-24T06:17:27.270819Z"
        },
        "trusted": true,
        "id": "5KBoDy1Bk8S5"
      },
      "execution_count": 36,
      "outputs": []
    },
    {
      "cell_type": "code",
      "source": [
        "#fit bc to Train set\n",
        "rf.fit(X_train, y_train)\n",
        "#predict\n",
        "y_pred = rf.predict(X_test)"
      ],
      "metadata": {
        "execution": {
          "iopub.status.busy": "2022-02-24T06:17:27.272803Z",
          "iopub.execute_input": "2022-02-24T06:17:27.273028Z",
          "iopub.status.idle": "2022-02-24T06:17:28.076574Z",
          "shell.execute_reply.started": "2022-02-24T06:17:27.273002Z",
          "shell.execute_reply": "2022-02-24T06:17:28.075832Z"
        },
        "trusted": true,
        "id": "NFkKSTxek8S7"
      },
      "execution_count": 37,
      "outputs": []
    },
    {
      "cell_type": "code",
      "source": [
        "accuracy = accuracy_score(y_test, y_pred)\n",
        "                          \n",
        "print('test accuracy :{:.3f}'.format(accuracy))"
      ],
      "metadata": {
        "execution": {
          "iopub.status.busy": "2022-02-24T06:17:28.077554Z",
          "iopub.execute_input": "2022-02-24T06:17:28.077759Z",
          "iopub.status.idle": "2022-02-24T06:17:28.083435Z",
          "shell.execute_reply.started": "2022-02-24T06:17:28.077734Z",
          "shell.execute_reply": "2022-02-24T06:17:28.082558Z"
        },
        "trusted": true,
        "colab": {
          "base_uri": "https://localhost:8080/"
        },
        "id": "XEexk3hvk8S8",
        "outputId": "dc190487-c575-4914-8c61-d80b67408e01"
      },
      "execution_count": 38,
      "outputs": [
        {
          "output_type": "stream",
          "name": "stdout",
          "text": [
            "test accuracy :0.942\n"
          ]
        }
      ]
    },
    {
      "cell_type": "code",
      "source": [
        "# Confusion maxtrix & metrics\n",
        "cm = confusion_matrix(y_test, y_pred)\n",
        "class_names = [0,1]\n",
        "plt.figure()\n",
        "plot_confusion_matrix(cm, \n",
        "                      classes=class_names, \n",
        "                      title='Tree Confusion matrix')\n",
        "plt.savefig('6')\n",
        "plt.show()\n",
        "\n",
        "show_metrics()"
      ],
      "metadata": {
        "execution": {
          "iopub.status.busy": "2022-02-24T06:17:28.084577Z",
          "iopub.execute_input": "2022-02-24T06:17:28.084872Z",
          "iopub.status.idle": "2022-02-24T06:17:28.360621Z",
          "shell.execute_reply.started": "2022-02-24T06:17:28.084842Z",
          "shell.execute_reply": "2022-02-24T06:17:28.359248Z"
        },
        "trusted": true,
        "colab": {
          "base_uri": "https://localhost:8080/",
          "height": 0
        },
        "id": "QMRXTzbBk8S-",
        "outputId": "0e735b12-c551-4457-875b-e5c11034ef44"
      },
      "execution_count": 39,
      "outputs": [
        {
          "output_type": "display_data",
          "data": {
            "image/png": "[encoded data removed]",
            "text/plain": [
              "<Figure size 432x288 with 2 Axes>"
            ]
          },
          "metadata": {
            "needs_background": "light"
          }
        },
        {
          "output_type": "stream",
          "name": "stdout",
          "text": [
            "Accuracy  =     0.942\n",
            "Precision =     0.982\n",
            "Recall    =     0.859\n",
            "F1_score  =     0.917\n"
          ]
        }
      ]
    },
    {
      "cell_type": "code",
      "source": [
        "# Create a pd.Series of features importances\n",
        "importances_rf = pd.Series(rf.feature_importances_, index = z.columns)\n",
        "# Sort importances_rf                                   \n",
        "sorted_importances_rf = importances_rf.sort_values()   \n",
        "# Make a horizontal bar plot\n",
        "sorted_importances_rf.plot(kind='barh', color='lightgreen'); plt.show()"
      ],
      "metadata": {
        "execution": {
          "iopub.status.busy": "2022-02-24T06:17:28.362059Z",
          "iopub.execute_input": "2022-02-24T06:17:28.362387Z",
          "iopub.status.idle": "2022-02-24T06:17:28.884049Z",
          "shell.execute_reply.started": "2022-02-24T06:17:28.362342Z",
          "shell.execute_reply": "2022-02-24T06:17:28.883529Z"
        },
        "trusted": true,
        "colab": {
          "base_uri": "https://localhost:8080/",
          "height": 0
        },
        "id": "nNYJRUaZk8TA",
        "outputId": "7a8fc657-f68d-4236-c9fe-4a774aaa7eb6"
      },
      "execution_count": 40,
      "outputs": [
        {
          "output_type": "display_data",
          "data": {
            "image/png": "[encoded data removed]",
            "text/plain": [
              "<Figure size 432x288 with 1 Axes>"
            ]
          },
          "metadata": {
            "needs_background": "light"
          }
        }
      ]
    },
    {
      "cell_type": "code",
      "source": [
        ""
      ],
      "metadata": {
        "id": "H9UJ3uHFk8TC"
      },
      "execution_count": 40,
      "outputs": []
    },
    {
      "cell_type": "markdown",
      "source": [
        "# 6.2. Adaboost"
      ],
      "metadata": {
        "id": "V5JALBT4k8TD"
      }
    },
    {
      "cell_type": "code",
      "source": [
        ""
      ],
      "metadata": {
        "trusted": true,
        "id": "xMH5eIrZk8TG"
      },
      "execution_count": 40,
      "outputs": []
    },
    {
      "cell_type": "code",
      "source": [
        "# Instantiate a classification-tree 'dt'\n",
        "dt = DecisionTreeClassifier(max_depth=1, random_state=SEED)\n",
        "# Instantiate an AdaBoost classifier 'adab_clf'\n",
        "adb_clf = AdaBoostClassifier(base_estimator=dt, n_estimators=100)"
      ],
      "metadata": {
        "execution": {
          "iopub.status.busy": "2022-02-24T06:17:28.885074Z",
          "iopub.execute_input": "2022-02-24T06:17:28.885404Z",
          "iopub.status.idle": "2022-02-24T06:17:28.889524Z",
          "shell.execute_reply.started": "2022-02-24T06:17:28.885370Z",
          "shell.execute_reply": "2022-02-24T06:17:28.888849Z"
        },
        "trusted": true,
        "id": "a44bFUF8k8TH"
      },
      "execution_count": 41,
      "outputs": []
    },
    {
      "cell_type": "code",
      "source": [
        "adb_clf.fit(X_train, y_train)"
      ],
      "metadata": {
        "execution": {
          "iopub.status.busy": "2022-02-24T06:17:28.890578Z",
          "iopub.execute_input": "2022-02-24T06:17:28.890790Z",
          "iopub.status.idle": "2022-02-24T06:17:29.180050Z",
          "shell.execute_reply.started": "2022-02-24T06:17:28.890764Z",
          "shell.execute_reply": "2022-02-24T06:17:29.179112Z"
        },
        "trusted": true,
        "colab": {
          "base_uri": "https://localhost:8080/"
        },
        "id": "2eI2EFhvk8TK",
        "outputId": "b0a9f6d7-8467-4fe1-b917-1073d52d68d5"
      },
      "execution_count": 42,
      "outputs": [
        {
          "output_type": "execute_result",
          "data": {
            "text/plain": [
              "AdaBoostClassifier(base_estimator=DecisionTreeClassifier(max_depth=1,\n",
              "                                                         random_state=113),\n",
              "                   n_estimators=100)"
            ]
          },
          "metadata": {},
          "execution_count": 42
        }
      ]
    },
    {
      "cell_type": "code",
      "source": [
        "# Predict the test set probabilities of positive class\n",
        "y_pred_proba = adb_clf.predict_proba(X_test)[:,1]\n",
        "# Evaluate test-set roc_auc_score\n",
        "adb_clf_roc_auc_score = roc_auc_score(y_test, y_pred_proba)\n"
      ],
      "metadata": {
        "execution": {
          "iopub.status.busy": "2022-02-24T06:17:29.181319Z",
          "iopub.execute_input": "2022-02-24T06:17:29.181547Z",
          "iopub.status.idle": "2022-02-24T06:17:29.206669Z",
          "shell.execute_reply.started": "2022-02-24T06:17:29.181522Z",
          "shell.execute_reply": "2022-02-24T06:17:29.206089Z"
        },
        "trusted": true,
        "id": "_tkOkuZKk8TL"
      },
      "execution_count": 43,
      "outputs": []
    },
    {
      "cell_type": "code",
      "source": [
        "print('ROC AUC score: {:.2f}'.format(adb_clf_roc_auc_score))"
      ],
      "metadata": {
        "execution": {
          "iopub.status.busy": "2022-02-24T06:17:29.207911Z",
          "iopub.execute_input": "2022-02-24T06:17:29.208309Z",
          "iopub.status.idle": "2022-02-24T06:17:29.213756Z",
          "shell.execute_reply.started": "2022-02-24T06:17:29.208268Z",
          "shell.execute_reply": "2022-02-24T06:17:29.212955Z"
        },
        "trusted": true,
        "colab": {
          "base_uri": "https://localhost:8080/"
        },
        "id": "kj-ur0oRk8TM",
        "outputId": "f7ae7df4-f953-4b4e-9e04-983e7af060cf"
      },
      "execution_count": 44,
      "outputs": [
        {
          "output_type": "stream",
          "name": "stdout",
          "text": [
            "ROC AUC score: 0.99\n"
          ]
        }
      ]
    },
    {
      "cell_type": "code",
      "source": [
        "\n"
      ],
      "metadata": {
        "trusted": true,
        "id": "dKHTCSWEk8TN"
      },
      "execution_count": 44,
      "outputs": []
    },
    {
      "cell_type": "markdown",
      "source": [
        "# 6.3 Gradient Boosting "
      ],
      "metadata": {
        "id": "_mqGu8Syk8TP"
      }
    },
    {
      "cell_type": "code",
      "source": [
        "gbt = GradientBoostingClassifier(n_estimators=300, max_depth=1, random_state=SEED)"
      ],
      "metadata": {
        "execution": {
          "iopub.status.busy": "2022-02-24T06:17:29.214763Z",
          "iopub.execute_input": "2022-02-24T06:17:29.215394Z",
          "iopub.status.idle": "2022-02-24T06:17:29.221768Z",
          "shell.execute_reply.started": "2022-02-24T06:17:29.215354Z",
          "shell.execute_reply": "2022-02-24T06:17:29.221164Z"
        },
        "trusted": true,
        "id": "e7jEPINek8TQ"
      },
      "execution_count": 45,
      "outputs": []
    },
    {
      "cell_type": "code",
      "source": [
        "gbt.fit(X_train, y_train)\n",
        "y_pred = gbt.predict(X_test)"
      ],
      "metadata": {
        "execution": {
          "iopub.status.busy": "2022-02-24T06:17:29.223123Z",
          "iopub.execute_input": "2022-02-24T06:17:29.223405Z",
          "iopub.status.idle": "2022-02-24T06:17:29.660317Z",
          "shell.execute_reply.started": "2022-02-24T06:17:29.223371Z",
          "shell.execute_reply": "2022-02-24T06:17:29.659620Z"
        },
        "trusted": true,
        "id": "AVCMS8kTk8TR"
      },
      "execution_count": 46,
      "outputs": []
    },
    {
      "cell_type": "code",
      "source": [
        "accuray = accuracy_score(y_test, y_pred)\n",
        "print('test accuracy: {:.3f}'.format(accuracy))"
      ],
      "metadata": {
        "execution": {
          "iopub.status.busy": "2022-02-24T06:17:29.661292Z",
          "iopub.execute_input": "2022-02-24T06:17:29.664835Z",
          "iopub.status.idle": "2022-02-24T06:17:29.669171Z",
          "shell.execute_reply.started": "2022-02-24T06:17:29.664803Z",
          "shell.execute_reply": "2022-02-24T06:17:29.668425Z"
        },
        "trusted": true,
        "colab": {
          "base_uri": "https://localhost:8080/"
        },
        "id": "wPUmAL97k8TS",
        "outputId": "00687097-57c8-490d-f2a4-44088fed0a65"
      },
      "execution_count": 47,
      "outputs": [
        {
          "output_type": "stream",
          "name": "stdout",
          "text": [
            "test accuracy: 0.942\n"
          ]
        }
      ]
    },
    {
      "cell_type": "code",
      "source": [
        "# Confusion maxtrix & metrics\n",
        "cm = confusion_matrix(y_test, y_pred)\n",
        "class_names = [0,1]\n",
        "plt.figure()\n",
        "plot_confusion_matrix(cm, \n",
        "                      classes=class_names, \n",
        "                      title='Tree Confusion matrix')\n",
        "plt.savefig('7')\n",
        "plt.show()\n",
        "\n",
        "show_metrics()"
      ],
      "metadata": {
        "execution": {
          "iopub.status.busy": "2022-02-24T06:17:29.670226Z",
          "iopub.execute_input": "2022-02-24T06:17:29.670420Z",
          "iopub.status.idle": "2022-02-24T06:17:29.953481Z",
          "shell.execute_reply.started": "2022-02-24T06:17:29.670397Z",
          "shell.execute_reply": "2022-02-24T06:17:29.952850Z"
        },
        "trusted": true,
        "colab": {
          "base_uri": "https://localhost:8080/",
          "height": 0
        },
        "id": "4m__zkQkk8TT",
        "outputId": "3a1f3749-b938-4e2b-bdce-53df2f69b499"
      },
      "execution_count": 48,
      "outputs": [
        {
          "output_type": "display_data",
          "data": {
            "image/png": "[encoded data removed]",
            "text/plain": [
              "<Figure size 432x288 with 2 Axes>"
            ]
          },
          "metadata": {
            "needs_background": "light"
          }
        },
        {
          "output_type": "stream",
          "name": "stdout",
          "text": [
            "Accuracy  =     0.947\n",
            "Precision =     0.966\n",
            "Recall    =     0.891\n",
            "F1_score  =     0.927\n"
          ]
        }
      ]
    },
    {
      "cell_type": "markdown",
      "source": [
        "# Stochastic Gradient Boosting"
      ],
      "metadata": {
        "id": "9Qv3pOc1k8TW"
      }
    },
    {
      "cell_type": "code",
      "source": [
        "# Instantiate a stochastic GradientBoostingClassifier 'sgbt'\n",
        "sgbt = GradientBoostingClassifier(max_depth=1, subsample=0.8, max_features=0.2, n_estimators=300, random_state=SEED)\n",
        "# Fit 'sgbt' to the training set\n",
        "sgbt.fit(X_train, y_train)\n",
        "# Predict the test set labels\n",
        "y_pred = sgbt.predict(X_test)\n"
      ],
      "metadata": {
        "execution": {
          "iopub.status.busy": "2022-02-24T06:17:29.954562Z",
          "iopub.execute_input": "2022-02-24T06:17:29.955027Z",
          "iopub.status.idle": "2022-02-24T06:17:30.165074Z",
          "shell.execute_reply.started": "2022-02-24T06:17:29.954982Z",
          "shell.execute_reply": "2022-02-24T06:17:30.164346Z"
        },
        "trusted": true,
        "id": "wIrpnuINk8TX"
      },
      "execution_count": 49,
      "outputs": []
    },
    {
      "cell_type": "code",
      "source": [
        "accuray = accuracy_score(y_test, y_pred)\n",
        "print('test accuracy: {:.3f}'.format(accuracy))"
      ],
      "metadata": {
        "execution": {
          "iopub.status.busy": "2022-02-24T06:17:30.165975Z",
          "iopub.execute_input": "2022-02-24T06:17:30.166207Z",
          "iopub.status.idle": "2022-02-24T06:17:30.171212Z",
          "shell.execute_reply.started": "2022-02-24T06:17:30.166174Z",
          "shell.execute_reply": "2022-02-24T06:17:30.170435Z"
        },
        "trusted": true,
        "colab": {
          "base_uri": "https://localhost:8080/"
        },
        "id": "t0UGm_Xnk8TZ",
        "outputId": "b728fb61-bc4c-49a1-e0c0-d04408e63eaf"
      },
      "execution_count": 50,
      "outputs": [
        {
          "output_type": "stream",
          "name": "stdout",
          "text": [
            "test accuracy: 0.942\n"
          ]
        }
      ]
    },
    {
      "cell_type": "code",
      "source": [
        "# Confusion maxtrix & metrics\n",
        "cm = confusion_matrix(y_test, y_pred)\n",
        "class_names = [0,1]\n",
        "plt.figure()\n",
        "plot_confusion_matrix(cm, \n",
        "                      classes=class_names, \n",
        "                      title='Tree Confusion matrix')\n",
        "plt.savefig('8')\n",
        "plt.show()\n",
        "\n",
        "show_metrics()"
      ],
      "metadata": {
        "execution": {
          "iopub.status.busy": "2022-02-24T06:17:30.172081Z",
          "iopub.execute_input": "2022-02-24T06:17:30.172362Z",
          "iopub.status.idle": "2022-02-24T06:17:30.467805Z",
          "shell.execute_reply.started": "2022-02-24T06:17:30.172333Z",
          "shell.execute_reply": "2022-02-24T06:17:30.467064Z"
        },
        "trusted": true,
        "colab": {
          "base_uri": "https://localhost:8080/",
          "height": 0
        },
        "id": "w9zJ4NPRk8Tb",
        "outputId": "11d037e1-2a40-48ff-dec4-75b3eb4b98f5"
      },
      "execution_count": 51,
      "outputs": [
        {
          "output_type": "display_data",
          "data": {
            "image/png": "[encoded data removed]",
            "text/plain": [
              "<Figure size 432x288 with 2 Axes>"
            ]
          },
          "metadata": {
            "needs_background": "light"
          }
        },
        {
          "output_type": "stream",
          "name": "stdout",
          "text": [
            "Accuracy  =     0.942\n",
            "Precision =     0.966\n",
            "Recall    =     0.875\n",
            "F1_score  =     0.918\n"
          ]
        }
      ]
    },
    {
      "cell_type": "code",
      "source": [
        ""
      ],
      "metadata": {
        "id": "WX9NJupNk8Tc"
      },
      "execution_count": 51,
      "outputs": []
    },
    {
      "cell_type": "markdown",
      "source": [
        "# 7. **Hyperparameter Tunig using GridSearchCV**"
      ],
      "metadata": {
        "id": "Z1-K4Fbvk8Td"
      }
    },
    {
      "cell_type": "markdown",
      "source": [
        "# 7.2. GridSearchCV for Tree"
      ],
      "metadata": {
        "id": "hVu9ycvSk8Tf"
      }
    },
    {
      "cell_type": "code",
      "source": [
        "dt = DecisionTreeClassifier(random_state= SEED)\n",
        "params_dt = { \n",
        "             'max_depth': [3, 4, 5, 6, 7, 8],\n",
        "             'min_samples_leaf': [0.04, 0.06, 0.08],\n",
        "             'max_features': [0.2, 0.4, 0.6, 0.8]\n",
        "            }\n",
        "grid_dt = GridSearchCV(estimator = dt, param_grid = params_dt, scoring='accuracy',cv=10,n_jobs=-1 )\n",
        "grid_dt.fit(X_train, y_train)"
      ],
      "metadata": {
        "execution": {
          "iopub.status.busy": "2022-02-24T06:17:30.468854Z",
          "iopub.execute_input": "2022-02-24T06:17:30.469051Z",
          "iopub.status.idle": "2022-02-24T06:17:31.565802Z",
          "shell.execute_reply.started": "2022-02-24T06:17:30.469027Z",
          "shell.execute_reply": "2022-02-24T06:17:31.565009Z"
        },
        "trusted": true,
        "colab": {
          "base_uri": "https://localhost:8080/"
        },
        "id": "e2Ezi9B8k8Tg",
        "outputId": "23c2dffe-ab0d-4b99-e462-94d98c743b33"
      },
      "execution_count": 52,
      "outputs": [
        {
          "output_type": "execute_result",
          "data": {
            "text/plain": [
              "GridSearchCV(cv=10, estimator=DecisionTreeClassifier(random_state=113),\n",
              "             n_jobs=-1,\n",
              "             param_grid={'max_depth': [3, 4, 5, 6, 7, 8],\n",
              "                         'max_features': [0.2, 0.4, 0.6, 0.8],\n",
              "                         'min_samples_leaf': [0.04, 0.06, 0.08]},\n",
              "             scoring='accuracy')"
            ]
          },
          "metadata": {},
          "execution_count": 52
        }
      ]
    },
    {
      "cell_type": "code",
      "source": [
        "# Extract best hyperparameters from 'griddt'\n",
        "best_hyperparams = grid_dt.best_params_\n",
        "print('Best hyerparameters:\\n', best_hyperparams)"
      ],
      "metadata": {
        "execution": {
          "iopub.status.busy": "2022-02-24T06:17:31.566990Z",
          "iopub.execute_input": "2022-02-24T06:17:31.567563Z",
          "iopub.status.idle": "2022-02-24T06:17:31.572098Z",
          "shell.execute_reply.started": "2022-02-24T06:17:31.567515Z",
          "shell.execute_reply": "2022-02-24T06:17:31.571391Z"
        },
        "trusted": true,
        "colab": {
          "base_uri": "https://localhost:8080/"
        },
        "id": "G_r2NBlkk8Th",
        "outputId": "6207a4d1-b471-409c-b339-51abd9f0fdf3"
      },
      "execution_count": 53,
      "outputs": [
        {
          "output_type": "stream",
          "name": "stdout",
          "text": [
            "Best hyerparameters:\n",
            " {'max_depth': 3, 'max_features': 0.6, 'min_samples_leaf': 0.04}\n"
          ]
        }
      ]
    },
    {
      "cell_type": "code",
      "source": [
        "# Extract best CV score from 'grid_dt'\n",
        "best_CV_score = grid_dt.best_score_\n",
        "print('Best CV accuracy'.format(best_CV_score))"
      ],
      "metadata": {
        "execution": {
          "iopub.status.busy": "2022-02-24T06:17:31.573364Z",
          "iopub.execute_input": "2022-02-24T06:17:31.573553Z",
          "iopub.status.idle": "2022-02-24T06:17:31.583862Z",
          "shell.execute_reply.started": "2022-02-24T06:17:31.573529Z",
          "shell.execute_reply": "2022-02-24T06:17:31.583219Z"
        },
        "trusted": true,
        "colab": {
          "base_uri": "https://localhost:8080/"
        },
        "id": "4J6j8WQrk8Ti",
        "outputId": "98267e42-e2fe-409c-aa08-b4abc09ab118"
      },
      "execution_count": 54,
      "outputs": [
        {
          "output_type": "stream",
          "name": "stdout",
          "text": [
            "Best CV accuracy\n"
          ]
        }
      ]
    },
    {
      "cell_type": "code",
      "source": [
        "# Extract best model from 'grid_dt'\n",
        "best_model = grid_dt.best_estimator_\n",
        "\n",
        "# Evaluate test set accuracy\n",
        "test_acc = best_model.score(X_test,y_test)\n",
        "\n",
        "# Print test set accuracy\n",
        "print(\"Test set accuracy of best model: {:.3f}\".format(test_acc))"
      ],
      "metadata": {
        "execution": {
          "iopub.status.busy": "2022-02-24T06:17:31.584864Z",
          "iopub.execute_input": "2022-02-24T06:17:31.585433Z",
          "iopub.status.idle": "2022-02-24T06:17:31.596605Z",
          "shell.execute_reply.started": "2022-02-24T06:17:31.585401Z",
          "shell.execute_reply": "2022-02-24T06:17:31.595878Z"
        },
        "trusted": true,
        "colab": {
          "base_uri": "https://localhost:8080/"
        },
        "id": "W2xmCCGPk8Tv",
        "outputId": "a2c1e288-8774-42d5-e1bc-20c7aed2973a"
      },
      "execution_count": 55,
      "outputs": [
        {
          "output_type": "stream",
          "name": "stdout",
          "text": [
            "Test set accuracy of best model: 0.936\n"
          ]
        }
      ]
    },
    {
      "cell_type": "code",
      "source": [
        ""
      ],
      "metadata": {
        "id": "WPPPF4brk8T3"
      },
      "execution_count": 55,
      "outputs": []
    },
    {
      "cell_type": "markdown",
      "source": [
        "# 7.3. GridSearchCV for Forest"
      ],
      "metadata": {
        "id": "WJTu-B-dk8T5"
      }
    },
    {
      "cell_type": "code",
      "source": [
        "clf = RandomForestClassifier(n_jobs=-1)\n",
        "\n",
        "param_grid = {\n",
        "    'min_samples_split': [3, 5, 10], \n",
        "    'n_estimators' : [100, 300],\n",
        "    'max_depth': [3, 5, 15, 25],\n",
        "    'max_features': [3, 5, 10, 20]\n",
        "}"
      ],
      "metadata": {
        "execution": {
          "iopub.status.busy": "2022-02-24T06:17:31.597571Z",
          "iopub.execute_input": "2022-02-24T06:17:31.598281Z",
          "iopub.status.idle": "2022-02-24T06:17:31.603888Z",
          "shell.execute_reply.started": "2022-02-24T06:17:31.598252Z",
          "shell.execute_reply": "2022-02-24T06:17:31.603332Z"
        },
        "trusted": true,
        "id": "jn_nHyyXk8Uk"
      },
      "execution_count": 56,
      "outputs": []
    },
    {
      "cell_type": "code",
      "source": [
        "grid_rf = GridSearchCV(estimator =clf, param_grid=param_grid, scoring = 'recall', cv=10,n_jobs=-1)\n",
        "grid_rf.fit(X_train, y_train)"
      ],
      "metadata": {
        "execution": {
          "iopub.status.busy": "2022-02-24T06:17:31.604814Z",
          "iopub.execute_input": "2022-02-24T06:17:31.605017Z",
          "iopub.status.idle": "2022-02-24T06:21:08.187933Z",
          "shell.execute_reply.started": "2022-02-24T06:17:31.604993Z",
          "shell.execute_reply": "2022-02-24T06:21:08.187436Z"
        },
        "trusted": true,
        "colab": {
          "base_uri": "https://localhost:8080/"
        },
        "id": "2pEgj9ivk8U9",
        "outputId": "13765947-214f-4af0-dcbc-eb8517798242"
      },
      "execution_count": 57,
      "outputs": [
        {
          "output_type": "execute_result",
          "data": {
            "text/plain": [
              "GridSearchCV(cv=10, estimator=RandomForestClassifier(n_jobs=-1), n_jobs=-1,\n",
              "             param_grid={'max_depth': [3, 5, 15, 25],\n",
              "                         'max_features': [3, 5, 10, 20],\n",
              "                         'min_samples_split': [3, 5, 10],\n",
              "                         'n_estimators': [100, 300]},\n",
              "             scoring='recall')"
            ]
          },
          "metadata": {},
          "execution_count": 57
        }
      ]
    },
    {
      "cell_type": "code",
      "source": [
        ""
      ],
      "metadata": {
        "id": "63COVA3fk8U-"
      },
      "execution_count": 57,
      "outputs": []
    },
    {
      "cell_type": "code",
      "source": [
        "# Extract best model from 'grid_rf'\n",
        "best_model = grid_rf.best_estimator_\n",
        "\n",
        "# Evaluate test set accuracy\n",
        "test_acc = best_model.score(X_test,y_test)\n",
        "\n",
        "# Print test set accuracy\n",
        "print(\"Test set accuracy of best model: {:.3f}\".format(test_acc))"
      ],
      "metadata": {
        "execution": {
          "iopub.status.busy": "2022-02-24T06:21:08.188880Z",
          "iopub.execute_input": "2022-02-24T06:21:08.189481Z",
          "iopub.status.idle": "2022-02-24T06:21:08.296604Z",
          "shell.execute_reply.started": "2022-02-24T06:21:08.189452Z",
          "shell.execute_reply": "2022-02-24T06:21:08.296043Z"
        },
        "trusted": true,
        "colab": {
          "base_uri": "https://localhost:8080/"
        },
        "id": "Zuz7SeO8k8U_",
        "outputId": "fc45f7b4-17c2-443a-bf20-f7e6259b0775"
      },
      "execution_count": 58,
      "outputs": [
        {
          "output_type": "stream",
          "name": "stdout",
          "text": [
            "Test set accuracy of best model: 0.942\n"
          ]
        }
      ]
    },
    {
      "cell_type": "code",
      "source": [
        "best_parameters = grid_rf.best_params_\n",
        "print('The best parameters for using this model is', best_parameters)"
      ],
      "metadata": {
        "execution": {
          "iopub.status.busy": "2022-02-24T06:21:08.297623Z",
          "iopub.execute_input": "2022-02-24T06:21:08.297972Z",
          "iopub.status.idle": "2022-02-24T06:21:08.302551Z",
          "shell.execute_reply.started": "2022-02-24T06:21:08.297930Z",
          "shell.execute_reply": "2022-02-24T06:21:08.301611Z"
        },
        "trusted": true,
        "colab": {
          "base_uri": "https://localhost:8080/"
        },
        "id": "jKDtBlaRk8VH",
        "outputId": "0690afb8-a29a-418e-f734-1d5747881103"
      },
      "execution_count": 59,
      "outputs": [
        {
          "output_type": "stream",
          "name": "stdout",
          "text": [
            "The best parameters for using this model is {'max_depth': 5, 'max_features': 10, 'min_samples_split': 3, 'n_estimators': 300}\n"
          ]
        }
      ]
    },
    {
      "cell_type": "code",
      "source": [
        "CV_rfc = RandomForestClassifier(max_depth = best_parameters['max_depth'], max_features = best_parameters['max_features'], min_samples_split = best_parameters['min_samples_split'] , \n",
        "                               n_estimators =best_parameters['n_estimators'] )"
      ],
      "metadata": {
        "execution": {
          "iopub.status.busy": "2022-02-24T06:21:08.303998Z",
          "iopub.execute_input": "2022-02-24T06:21:08.304451Z",
          "iopub.status.idle": "2022-02-24T06:21:08.311681Z",
          "shell.execute_reply.started": "2022-02-24T06:21:08.304412Z",
          "shell.execute_reply": "2022-02-24T06:21:08.311008Z"
        },
        "trusted": true,
        "id": "kzPS1rmbk8VK"
      },
      "execution_count": 60,
      "outputs": []
    },
    {
      "cell_type": "code",
      "source": [
        "CV_rfc.fit(X_train, y_train)\n",
        "y_pred = CV_rfc.predict(X_test)\n",
        "\n",
        "# Confusion maxtrix & metrics\n",
        "cm = confusion_matrix(y_test, y_pred)\n",
        "class_names = [0,1]\n",
        "plt.figure()\n",
        "plot_confusion_matrix(cm, \n",
        "                      classes=class_names, \n",
        "                      title='Logistic Confusion matrix')\n",
        "plt.savefig('9')\n",
        "plt.show()\n",
        "\n",
        "show_metrics()"
      ],
      "metadata": {
        "execution": {
          "iopub.status.busy": "2022-02-24T06:21:08.312575Z",
          "iopub.execute_input": "2022-02-24T06:21:08.312752Z",
          "iopub.status.idle": "2022-02-24T06:21:08.810228Z",
          "shell.execute_reply.started": "2022-02-24T06:21:08.312731Z",
          "shell.execute_reply": "2022-02-24T06:21:08.809673Z"
        },
        "trusted": true,
        "colab": {
          "base_uri": "https://localhost:8080/",
          "height": 0
        },
        "id": "ANw56ycXk8VM",
        "outputId": "70821c19-db1b-41a6-c196-316b29cbc405"
      },
      "execution_count": 61,
      "outputs": [
        {
          "output_type": "display_data",
          "data": {
            "image/png": "[encoded data removed]",
            "text/plain": [
              "<Figure size 432x288 with 2 Axes>"
            ]
          },
          "metadata": {
            "needs_background": "light"
          }
        },
        {
          "output_type": "stream",
          "name": "stdout",
          "text": [
            "Accuracy  =     0.942\n",
            "Precision =     0.966\n",
            "Recall    =     0.875\n",
            "F1_score  =     0.918\n"
          ]
        }
      ]
    },
    {
      "cell_type": "code",
      "source": [
        ""
      ],
      "metadata": {
        "id": "G9lyGmCLk8VN"
      },
      "execution_count": 61,
      "outputs": []
    },
    {
      "cell_type": "markdown",
      "source": [
        "# Recall for various Decision Threshold"
      ],
      "metadata": {
        "id": "VRNQWAvuk8VO"
      }
    },
    {
      "cell_type": "code",
      "source": [
        "# Threshold\n",
        "thresholds_adj = [0.1,0.2,0.3,0.4,0.5,0.6,0.7,0.8,0.9]\n",
        "\n",
        "plt.figure(figsize = (15,15))\n",
        "\n",
        "j = 1\n",
        "for i in thresholds_adj:\n",
        "    y_score = CV_rfc.predict_proba(X_test)[:,1] > i\n",
        "    \n",
        "    \n",
        "    plt.subplot(3,3,j)\n",
        "    j += 1\n",
        "    \n",
        "    cm = confusion_matrix(y_test, y_score)\n",
        "    \n",
        "    tp = cm[1,1]\n",
        "    fn = cm[1,0]\n",
        "    fp = cm[0,1]\n",
        "    tn = cm[0,0]\n",
        "\n",
        "    print('Recall w/ threshold = %s :'%i, (tp/(tp+fn)))\n",
        "    \n",
        "    class_names = [0,1]\n",
        "    plot_confusion_matrix(cm, \n",
        "                          classes=class_names, \n",
        "                          title='Threshold = %s'%i) "
      ],
      "metadata": {
        "execution": {
          "iopub.status.busy": "2022-02-24T06:21:08.811324Z",
          "iopub.execute_input": "2022-02-24T06:21:08.811743Z",
          "iopub.status.idle": "2022-02-24T06:21:11.030405Z",
          "shell.execute_reply.started": "2022-02-24T06:21:08.811709Z",
          "shell.execute_reply": "2022-02-24T06:21:11.029569Z"
        },
        "trusted": true,
        "colab": {
          "base_uri": "https://localhost:8080/",
          "height": 1000
        },
        "id": "v2kToDOBk8VQ",
        "outputId": "dd154f78-ed32-4745-e4d9-626931a79cbe"
      },
      "execution_count": 62,
      "outputs": [
        {
          "output_type": "stream",
          "name": "stdout",
          "text": [
            "Recall w/ threshold = 0.1 : 0.96875\n",
            "Recall w/ threshold = 0.2 : 0.9375\n",
            "Recall w/ threshold = 0.3 : 0.921875\n",
            "Recall w/ threshold = 0.4 : 0.875\n",
            "Recall w/ threshold = 0.5 : 0.875\n",
            "Recall w/ threshold = 0.6 : 0.859375\n",
            "Recall w/ threshold = 0.7 : 0.84375\n",
            "Recall w/ threshold = 0.8 : 0.796875\n",
            "Recall w/ threshold = 0.9 : 0.671875\n"
          ]
        },
        {
          "output_type": "display_data",
          "data": {
            "image/png": "[encoded data removed]",
            "text/plain": [
              "<Figure size 1080x1080 with 18 Axes>"
            ]
          },
          "metadata": {
            "needs_background": "light"
          }
        }
      ]
    },
    {
      "cell_type": "code",
      "source": [
        "# Recall = 1.\n",
        "y_score = CV_rfc.predict_proba(X_test)[:,1] > 0.13\n",
        "cm = confusion_matrix(y_test, y_score)\n",
        "class_names = [0,1]\n",
        "show_metrics()"
      ],
      "metadata": {
        "execution": {
          "iopub.status.busy": "2022-02-24T06:23:23.995122Z",
          "iopub.execute_input": "2022-02-24T06:23:23.995615Z",
          "iopub.status.idle": "2022-02-24T06:23:24.015119Z",
          "shell.execute_reply.started": "2022-02-24T06:23:23.995582Z",
          "shell.execute_reply": "2022-02-24T06:23:24.014544Z"
        },
        "trusted": true,
        "colab": {
          "base_uri": "https://localhost:8080/"
        },
        "id": "AESifTlak8VR",
        "outputId": "14127dfd-5df8-4d5a-9239-9a85f0567464"
      },
      "execution_count": 63,
      "outputs": [
        {
          "output_type": "stream",
          "name": "stdout",
          "text": [
            "Accuracy  =     0.936\n",
            "Precision =     0.873\n",
            "Recall    =     0.969\n",
            "F1_score  =     0.919\n"
          ]
        }
      ]
    },
    {
      "cell_type": "code",
      "source": [
        ""
      ],
      "metadata": {
        "id": "w0h6Nt3Uk8VS"
      },
      "execution_count": 63,
      "outputs": []
    }
  ]
}